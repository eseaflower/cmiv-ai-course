{
 "cells": [
  {
   "cell_type": "code",
   "execution_count": 1,
   "id": "85005537-3a4d-402e-a048-ff5f14b205ec",
   "metadata": {},
   "outputs": [],
   "source": [
    "import numpy as np\n",
    "import pandas as pd\n",
    "import matplotlib.pyplot as plt \n",
    "from matplotlib.colors import ListedColormap\n",
    "\n",
    "from sklearn.model_selection import train_test_split\n",
    "from sklearn.linear_model import LinearRegression,LogisticRegression\n",
    "from sklearn.decomposition import PCA\n",
    "from sklearn.metrics import confusion_matrix, ConfusionMatrixDisplay\n",
    "\n",
    "from pathlib import Path"
   ]
  },
  {
   "cell_type": "markdown",
   "id": "f7f1aee0-49c7-4d30-b325-99fb382fcb0a",
   "metadata": {},
   "source": [
    "## Introduction\n",
    "In this lab we will use both supervised (with labels) and unsupervised techniques to attempt to create a predictor for heart failure. The original data set can be viewed at https://www.kaggle.com/andrewmvd/heart-failure-clinical-data"
   ]
  },
  {
   "cell_type": "markdown",
   "id": "12854342-5d61-4bcd-8e39-50e87e0a24af",
   "metadata": {},
   "source": [
    "### Prepare data"
   ]
  },
  {
   "cell_type": "code",
   "execution_count": 2,
   "id": "38c60d1b-57a7-4527-96ff-30e78e53f412",
   "metadata": {},
   "outputs": [],
   "source": [
    "DATA_PATH = Path(r\"data\")\n",
    "data_file = DATA_PATH / \"heart_failure_clinical_records_dataset.csv\""
   ]
  },
  {
   "cell_type": "code",
   "execution_count": 143,
   "id": "3731cc98-a6c6-415b-91f9-7dd7fee868a5",
   "metadata": {},
   "outputs": [
    {
     "data": {
      "text/html": [
       "<div>\n",
       "<style scoped>\n",
       "    .dataframe tbody tr th:only-of-type {\n",
       "        vertical-align: middle;\n",
       "    }\n",
       "\n",
       "    .dataframe tbody tr th {\n",
       "        vertical-align: top;\n",
       "    }\n",
       "\n",
       "    .dataframe thead th {\n",
       "        text-align: right;\n",
       "    }\n",
       "</style>\n",
       "<table border=\"1\" class=\"dataframe\">\n",
       "  <thead>\n",
       "    <tr style=\"text-align: right;\">\n",
       "      <th></th>\n",
       "      <th>age</th>\n",
       "      <th>anaemia</th>\n",
       "      <th>creatinine_phosphokinase</th>\n",
       "      <th>diabetes</th>\n",
       "      <th>ejection_fraction</th>\n",
       "      <th>high_blood_pressure</th>\n",
       "      <th>platelets</th>\n",
       "      <th>serum_creatinine</th>\n",
       "      <th>serum_sodium</th>\n",
       "      <th>sex</th>\n",
       "      <th>smoking</th>\n",
       "      <th>time</th>\n",
       "      <th>DEATH_EVENT</th>\n",
       "    </tr>\n",
       "  </thead>\n",
       "  <tbody>\n",
       "    <tr>\n",
       "      <th>0</th>\n",
       "      <td>75.0</td>\n",
       "      <td>0</td>\n",
       "      <td>582</td>\n",
       "      <td>0</td>\n",
       "      <td>20</td>\n",
       "      <td>1</td>\n",
       "      <td>265000.00</td>\n",
       "      <td>1.9</td>\n",
       "      <td>130</td>\n",
       "      <td>1</td>\n",
       "      <td>0</td>\n",
       "      <td>4</td>\n",
       "      <td>1</td>\n",
       "    </tr>\n",
       "    <tr>\n",
       "      <th>1</th>\n",
       "      <td>55.0</td>\n",
       "      <td>0</td>\n",
       "      <td>7861</td>\n",
       "      <td>0</td>\n",
       "      <td>38</td>\n",
       "      <td>0</td>\n",
       "      <td>263358.03</td>\n",
       "      <td>1.1</td>\n",
       "      <td>136</td>\n",
       "      <td>1</td>\n",
       "      <td>0</td>\n",
       "      <td>6</td>\n",
       "      <td>1</td>\n",
       "    </tr>\n",
       "    <tr>\n",
       "      <th>2</th>\n",
       "      <td>65.0</td>\n",
       "      <td>0</td>\n",
       "      <td>146</td>\n",
       "      <td>0</td>\n",
       "      <td>20</td>\n",
       "      <td>0</td>\n",
       "      <td>162000.00</td>\n",
       "      <td>1.3</td>\n",
       "      <td>129</td>\n",
       "      <td>1</td>\n",
       "      <td>1</td>\n",
       "      <td>7</td>\n",
       "      <td>1</td>\n",
       "    </tr>\n",
       "    <tr>\n",
       "      <th>3</th>\n",
       "      <td>50.0</td>\n",
       "      <td>1</td>\n",
       "      <td>111</td>\n",
       "      <td>0</td>\n",
       "      <td>20</td>\n",
       "      <td>0</td>\n",
       "      <td>210000.00</td>\n",
       "      <td>1.9</td>\n",
       "      <td>137</td>\n",
       "      <td>1</td>\n",
       "      <td>0</td>\n",
       "      <td>7</td>\n",
       "      <td>1</td>\n",
       "    </tr>\n",
       "    <tr>\n",
       "      <th>4</th>\n",
       "      <td>65.0</td>\n",
       "      <td>1</td>\n",
       "      <td>160</td>\n",
       "      <td>1</td>\n",
       "      <td>20</td>\n",
       "      <td>0</td>\n",
       "      <td>327000.00</td>\n",
       "      <td>2.7</td>\n",
       "      <td>116</td>\n",
       "      <td>0</td>\n",
       "      <td>0</td>\n",
       "      <td>8</td>\n",
       "      <td>1</td>\n",
       "    </tr>\n",
       "  </tbody>\n",
       "</table>\n",
       "</div>"
      ],
      "text/plain": [
       "    age  anaemia  creatinine_phosphokinase  diabetes  ejection_fraction  \\\n",
       "0  75.0        0                       582         0                 20   \n",
       "1  55.0        0                      7861         0                 38   \n",
       "2  65.0        0                       146         0                 20   \n",
       "3  50.0        1                       111         0                 20   \n",
       "4  65.0        1                       160         1                 20   \n",
       "\n",
       "   high_blood_pressure  platelets  serum_creatinine  serum_sodium  sex  \\\n",
       "0                    1  265000.00               1.9           130    1   \n",
       "1                    0  263358.03               1.1           136    1   \n",
       "2                    0  162000.00               1.3           129    1   \n",
       "3                    0  210000.00               1.9           137    1   \n",
       "4                    0  327000.00               2.7           116    0   \n",
       "\n",
       "   smoking  time  DEATH_EVENT  \n",
       "0        0     4            1  \n",
       "1        0     6            1  \n",
       "2        1     7            1  \n",
       "3        0     7            1  \n",
       "4        0     8            1  "
      ]
     },
     "execution_count": 143,
     "metadata": {},
     "output_type": "execute_result"
    }
   ],
   "source": [
    "df = pd.read_csv(data_file)\n",
    "df.head()"
   ]
  },
  {
   "cell_type": "markdown",
   "id": "011911c3-32b5-47b0-b00d-c4d138230b8f",
   "metadata": {},
   "source": [
    "We use 'DEATH_EVENT' as the categorical target, so it should be removed from the feature set we can use for prediction. We also remove the 'time' feature, since it seems unfairly correlated with the target."
   ]
  },
  {
   "cell_type": "code",
   "execution_count": 130,
   "id": "1b698216-afdf-4170-843b-4a865e6d78b1",
   "metadata": {},
   "outputs": [],
   "source": [
    "X = df.drop(['DEATH_EVENT', 'time'], axis=1)\n",
    "y_cat = df['DEATH_EVENT']\n",
    "y_reg = df['time']"
   ]
  },
  {
   "cell_type": "markdown",
   "id": "be362c08-f72d-4a0a-af4a-fb014c32dade",
   "metadata": {},
   "source": [
    "### (Option)\n",
    "Optionally we could normalize all numerical features to have zero mean and variance one. This does not seem to make a huge difference."
   ]
  },
  {
   "cell_type": "code",
   "execution_count": 145,
   "id": "49bdaafa-b529-44f6-b8f9-6c5c0dde4bdc",
   "metadata": {},
   "outputs": [],
   "source": [
    "#num_cols = ['age', 'creatinine_phosphokinase', 'ejection_fraction', 'platelets', 'serum_creatinine', 'serum_sodium']\n",
    "#X[num_cols] -= X[num_cols].mean()\n",
    "#X[num_cols] /= X[num_cols].std()\n",
    "#X.head()"
   ]
  },
  {
   "cell_type": "code",
   "execution_count": 137,
   "id": "9012c653-e5bd-46a4-951f-51887b64777c",
   "metadata": {},
   "outputs": [
    {
     "data": {
      "text/plain": [
       "(96, 203)"
      ]
     },
     "execution_count": 137,
     "metadata": {},
     "output_type": "execute_result"
    }
   ],
   "source": [
    "len(np.where(y_cat == 1)[0]), len(np.where(y_cat == 0)[0])"
   ]
  },
  {
   "cell_type": "markdown",
   "id": "fe2b431b-122b-48a5-9f1f-9962e26d2228",
   "metadata": {},
   "source": [
    "### Helpers\n",
    "\n",
    "We define a few helpers to quickly be able to iterate experiments."
   ]
  },
  {
   "cell_type": "code",
   "execution_count": 138,
   "id": "88dc7f95-120d-49e9-9bd6-a54fce1c6acd",
   "metadata": {},
   "outputs": [],
   "source": [
    "colors = ['red', 'green']\n",
    "def plot_pca(X):\n",
    "    pca = PCA(n_components=2)\n",
    "    x_pca = pca.fit_transform(X)\n",
    "    plt.scatter(x_pca[:, 0],x_pca[:, 1], c=y_cat, cmap =ListedColormap(colors))"
   ]
  },
  {
   "cell_type": "markdown",
   "id": "76867c13-99ea-43ed-b417-e315b679b324",
   "metadata": {},
   "source": [
    "For each experiment we accept a list of features to use. We run a PCA (dimensionality reduction to 2D) on the data and plot the result to visualize the main correlation among the selected features."
   ]
  },
  {
   "cell_type": "code",
   "execution_count": 159,
   "id": "cd1dc346-4de2-4b44-ac5e-a763382c6db8",
   "metadata": {},
   "outputs": [],
   "source": [
    "def run_experiment(features=None):\n",
    "    print(f\"Using features {features}\")\n",
    "    if features is not None:\n",
    "        X_f = X[features]\n",
    "    else:\n",
    "        X_f = X\n",
    "    \n",
    "    plot_pca(X_f)\n",
    "    \n",
    "    X_train, X_test, y_train, y_test = train_test_split(X_f, y_cat, random_state=42, test_size=.30)\n",
    "    lor = LogisticRegression(random_state=0, class_weight=\"balanced\")\n",
    "    lor.fit(X_train, y_train)\n",
    "\n",
    "    print(f'Score features: {round(lor.score(X_test, y_test),4)}')\n",
    "    cm =confusion_matrix(y_test, lor.predict(X_test))\n",
    "    ConfusionMatrixDisplay(cm).plot()"
   ]
  },
  {
   "cell_type": "markdown",
   "id": "9560ed57-cc6b-4757-b77d-27a9a961e61a",
   "metadata": {},
   "source": [
    "### Experiment\n",
    "\n",
    "Try to find good combinations of features to predict heart failure. What are your conclusions?"
   ]
  },
  {
   "cell_type": "code",
   "execution_count": 160,
   "id": "2b257e92-9e19-45ff-add4-cbdc4c82c1be",
   "metadata": {},
   "outputs": [
    {
     "name": "stdout",
     "output_type": "stream",
     "text": [
      "Using features ['age', 'creatinine_phosphokinase']\n",
      "Score features: 0.5333\n"
     ]
    },
    {
     "data": {
      "image/png": "[encoded data removed]",
      "text/plain": [
       "<Figure size 432x288 with 1 Axes>"
      ]
     },
     "metadata": {
      "needs_background": "dark"
     },
     "output_type": "display_data"
    },
    {
     "data": {
      "image/png": "[encoded data removed]",
      "text/plain": [
       "<Figure size 432x288 with 2 Axes>"
      ]
     },
     "metadata": {
      "needs_background": "dark"
     },
     "output_type": "display_data"
    }
   ],
   "source": [
    "run_experiment(['age', 'creatinine_phosphokinase'])"
   ]
  },
  {
   "cell_type": "code",
   "execution_count": null,
   "id": "f738b616-1192-43ab-8661-313e1176b46d",
   "metadata": {},
   "outputs": [],
   "source": []
  }
 ],
 "metadata": {
  "kernelspec": {
   "display_name": "Python 3 (ipykernel)",
   "language": "python",
   "name": "python3"
  },
  "language_info": {
   "codemirror_mode": {
    "name": "ipython",
    "version": 3
   },
   "file_extension": ".py",
   "mimetype": "text/x-python",
   "name": "python",
   "nbconvert_exporter": "python",
   "pygments_lexer": "ipython3",
   "version": "3.9.6"
  }
 },
 "nbformat": 4,
 "nbformat_minor": 5
}
