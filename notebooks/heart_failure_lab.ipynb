{
 "cells": [
  {
   "cell_type": "code",
   "execution_count": null,
   "id": "85005537-3a4d-402e-a048-ff5f14b205ec",
   "metadata": {},
   "outputs": [],
   "source": [
    "import numpy as np\n",
    "import pandas as pd\n",
    "import matplotlib.pyplot as plt \n",
    "from matplotlib.colors import ListedColormap\n",
    "\n",
    "from sklearn.model_selection import train_test_split\n",
    "from sklearn.linear_model import LinearRegression,LogisticRegression\n",
    "from sklearn.decomposition import PCA\n",
    "from sklearn.metrics import confusion_matrix, ConfusionMatrixDisplay\n",
    "\n",
    "from pathlib import Path"
   ]
  },
  {
   "cell_type": "markdown",
   "id": "f7f1aee0-49c7-4d30-b325-99fb382fcb0a",
   "metadata": {},
   "source": [
    "## Introduction\n",
    "In this lab we will use both supervised (with labels) and unsupervised techniques to attempt to create a predictor for heart failure. The original data set can be viewed at https://www.kaggle.com/andrewmvd/heart-failure-clinical-data"
   ]
  },
  {
   "cell_type": "markdown",
   "id": "12854342-5d61-4bcd-8e39-50e87e0a24af",
   "metadata": {},
   "source": [
    "### Prepare data"
   ]
  },
  {
   "cell_type": "code",
   "execution_count": null,
   "id": "38c60d1b-57a7-4527-96ff-30e78e53f412",
   "metadata": {},
   "outputs": [],
   "source": [
    "#DATA_PATH = Path(r\"data\")\n",
    "#data_file = DATA_PATH / \"heart_failure_clinical_records_dataset.csv\"\n",
    "\n",
    "# Run the following if running with Colab\n",
    "data_file = \"https://github.com/fordanic/cmiv-ai-course/raw/master/notebooks/data/heart_failure_clinical_records_dataset.csv\""
   ]
  },
  {
   "cell_type": "code",
   "execution_count": null,
   "id": "3731cc98-a6c6-415b-91f9-7dd7fee868a5",
   "metadata": {},
   "outputs": [],
   "source": [
    "df = pd.read_csv(data_file)\n",
    "df.head()"
   ]
  },
  {
   "cell_type": "markdown",
   "id": "011911c3-32b5-47b0-b00d-c4d138230b8f",
   "metadata": {},
   "source": [
    "We use 'DEATH_EVENT' as the categorical target, so it should be removed from the feature set we can use for prediction. We also remove the 'time' feature, since it seems unfairly correlated with the target."
   ]
  },
  {
   "cell_type": "code",
   "execution_count": null,
   "id": "1b698216-afdf-4170-843b-4a865e6d78b1",
   "metadata": {},
   "outputs": [],
   "source": [
    "X = df.drop(['DEATH_EVENT', 'time'], axis=1)\n",
    "y_cat = df['DEATH_EVENT']\n",
    "y_reg = df['time']"
   ]
  },
  {
   "cell_type": "markdown",
   "id": "be362c08-f72d-4a0a-af4a-fb014c32dade",
   "metadata": {},
   "source": [
    "### (Option)\n",
    "Optionally we could normalize all numerical features to have zero mean and variance one. This does not seem to make a huge difference."
   ]
  },
  {
   "cell_type": "code",
   "execution_count": null,
   "id": "49bdaafa-b529-44f6-b8f9-6c5c0dde4bdc",
   "metadata": {},
   "outputs": [],
   "source": [
    "#num_cols = ['age', 'creatinine_phosphokinase', 'ejection_fraction', 'platelets', 'serum_creatinine', 'serum_sodium']\n",
    "#X[num_cols] -= X[num_cols].mean()\n",
    "#X[num_cols] /= X[num_cols].std()\n",
    "#X.head()"
   ]
  },
  {
   "cell_type": "code",
   "execution_count": null,
   "id": "9012c653-e5bd-46a4-951f-51887b64777c",
   "metadata": {},
   "outputs": [],
   "source": [
    "len(np.where(y_cat == 1)[0]), len(np.where(y_cat == 0)[0])"
   ]
  },
  {
   "cell_type": "markdown",
   "id": "fe2b431b-122b-48a5-9f1f-9962e26d2228",
   "metadata": {},
   "source": [
    "### Helpers\n",
    "\n",
    "We define a few helpers to quickly be able to iterate experiments."
   ]
  },
  {
   "cell_type": "code",
   "execution_count": null,
   "id": "88dc7f95-120d-49e9-9bd6-a54fce1c6acd",
   "metadata": {},
   "outputs": [],
   "source": [
    "colors = ['red', 'green']\n",
    "def plot_pca(X):\n",
    "    pca = PCA(n_components=2)\n",
    "    x_pca = pca.fit_transform(X)\n",
    "    plt.scatter(x_pca[:, 0],x_pca[:, 1], c=y_cat, cmap =ListedColormap(colors))"
   ]
  },
  {
   "cell_type": "markdown",
   "id": "76867c13-99ea-43ed-b417-e315b679b324",
   "metadata": {},
   "source": [
    "For each experiment we accept a list of features to use. We run a PCA (dimensionality reduction to 2D) on the data and plot the result to visualize the main correlation among the selected features."
   ]
  },
  {
   "cell_type": "code",
   "execution_count": null,
   "id": "cd1dc346-4de2-4b44-ac5e-a763382c6db8",
   "metadata": {},
   "outputs": [],
   "source": [
    "def run_experiment(features=None):\n",
    "    print(f\"Using features {features}\")\n",
    "    if features is not None:\n",
    "        X_f = X[features]\n",
    "    else:\n",
    "        X_f = X\n",
    "    \n",
    "    plot_pca(X_f)\n",
    "    \n",
    "    X_train, X_test, y_train, y_test = train_test_split(X_f, y_cat, random_state=42, test_size=.30)\n",
    "    lor = LogisticRegression(random_state=0, class_weight=\"balanced\")\n",
    "    lor.fit(X_train, y_train)\n",
    "\n",
    "    print(f'Score features: {round(lor.score(X_test, y_test),4)}')\n",
    "    cm =confusion_matrix(y_test, lor.predict(X_test))\n",
    "    ConfusionMatrixDisplay(cm, display_labels=[\"Healthy\", \"Heart failure\"]).plot()"
   ]
  },
  {
   "cell_type": "markdown",
   "id": "9560ed57-cc6b-4757-b77d-27a9a961e61a",
   "metadata": {},
   "source": [
    "### Experiment\n",
    "\n",
    "Try to find good combinations of features to predict heart failure. What are your conclusions?"
   ]
  },
  {
   "cell_type": "code",
   "execution_count": null,
   "id": "2b257e92-9e19-45ff-add4-cbdc4c82c1be",
   "metadata": {},
   "outputs": [],
   "source": [
    "run_experiment(['age', 'creatinine_phosphokinase'])"
   ]
  },
  {
   "cell_type": "code",
   "execution_count": null,
   "id": "f738b616-1192-43ab-8661-313e1176b46d",
   "metadata": {},
   "outputs": [],
   "source": []
  }
 ],
 "metadata": {
  "kernelspec": {
   "display_name": "Python 3 (ipykernel)",
   "language": "python",
   "name": "python3"
  },
  "language_info": {
   "codemirror_mode": {
    "name": "ipython",
    "version": 3
   },
   "file_extension": ".py",
   "mimetype": "text/x-python",
   "name": "python",
   "nbconvert_exporter": "python",
   "pygments_lexer": "ipython3",
   "version": "3.9.6"
  }
 },
 "nbformat": 4,
 "nbformat_minor": 5
}
