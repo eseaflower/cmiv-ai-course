{
  "cells": [
    {
      "cell_type": "markdown",
      "metadata": {
        "colab_type": "text",
        "id": "view-in-github"
      },
      "source": [
        "<a href=\"https://colab.research.google.com/github/k-stacke/cmiv-ai-course/blob/master/ChatGPT_Prompting.ipynb\" target=\"_parent\"><img src=\"https://colab.research.google.com/assets/colab-badge.svg\" alt=\"Open In Colab\"/></a>"
      ]
    },
    {
      "cell_type": "markdown",
      "metadata": {},
      "source": [
        "# Promting with ChatGPT"
      ]
    },
    {
      "cell_type": "markdown",
      "metadata": {},
      "source": [
        "## Problem\n",
        "\n",
        "We want to ..."
      ]
    },
    {
      "cell_type": "markdown",
      "metadata": {},
      "source": [
        "## Imports and data loading"
      ]
    },
    {
      "cell_type": "code",
      "execution_count": 53,
      "metadata": {},
      "outputs": [],
      "source": [
        "#!pip install --upgrade openai"
      ]
    },
    {
      "cell_type": "code",
      "execution_count": 54,
      "metadata": {},
      "outputs": [
        {
          "ename": "MissingSchema",
          "evalue": "Invalid URL 'CHANGE ME': No scheme supplied. Perhaps you meant https://CHANGE ME?",
          "output_type": "error",
          "traceback": [
            "\u001b[1;31m---------------------------------------------------------------------------\u001b[0m",
            "\u001b[1;31mMissingSchema\u001b[0m                             Traceback (most recent call last)",
            "Cell \u001b[1;32mIn[54], line 5\u001b[0m\n\u001b[0;32m      1\u001b[0m \u001b[38;5;28;01mimport\u001b[39;00m \u001b[38;5;21;01mrequests\u001b[39;00m\n\u001b[0;32m      3\u001b[0m \u001b[38;5;66;03m# NOTE: update to other info once we have a token specific for the AI course\u001b[39;00m\n\u001b[1;32m----> 5\u001b[0m response \u001b[38;5;241m=\u001b[39m \u001b[43mrequests\u001b[49m\u001b[38;5;241;43m.\u001b[39;49m\u001b[43mget\u001b[49m\u001b[43m(\u001b[49m\u001b[38;5;124;43m'\u001b[39;49m\u001b[38;5;124;43mCHANGE ME\u001b[39;49m\u001b[38;5;124;43m'\u001b[39;49m\u001b[43m)\u001b[49m\n\u001b[0;32m      6\u001b[0m env_vars \u001b[38;5;241m=\u001b[39m response\u001b[38;5;241m.\u001b[39mjson()\n",
            "File \u001b[1;32m~\\.virtualenvs\\cmiv-ai-course-5tIcA6BR\\Lib\\site-packages\\requests\\api.py:73\u001b[0m, in \u001b[0;36mget\u001b[1;34m(url, params, **kwargs)\u001b[0m\n\u001b[0;32m     62\u001b[0m \u001b[38;5;28;01mdef\u001b[39;00m \u001b[38;5;21mget\u001b[39m(url, params\u001b[38;5;241m=\u001b[39m\u001b[38;5;28;01mNone\u001b[39;00m, \u001b[38;5;241m*\u001b[39m\u001b[38;5;241m*\u001b[39mkwargs):\n\u001b[0;32m     63\u001b[0m \u001b[38;5;250m    \u001b[39m\u001b[38;5;124mr\u001b[39m\u001b[38;5;124;03m\"\"\"Sends a GET request.\u001b[39;00m\n\u001b[0;32m     64\u001b[0m \n\u001b[0;32m     65\u001b[0m \u001b[38;5;124;03m    :param url: URL for the new :class:`Request` object.\u001b[39;00m\n\u001b[1;32m   (...)\u001b[0m\n\u001b[0;32m     70\u001b[0m \u001b[38;5;124;03m    :rtype: requests.Response\u001b[39;00m\n\u001b[0;32m     71\u001b[0m \u001b[38;5;124;03m    \"\"\"\u001b[39;00m\n\u001b[1;32m---> 73\u001b[0m     \u001b[38;5;28;01mreturn\u001b[39;00m \u001b[43mrequest\u001b[49m\u001b[43m(\u001b[49m\u001b[38;5;124;43m\"\u001b[39;49m\u001b[38;5;124;43mget\u001b[39;49m\u001b[38;5;124;43m\"\u001b[39;49m\u001b[43m,\u001b[49m\u001b[43m \u001b[49m\u001b[43murl\u001b[49m\u001b[43m,\u001b[49m\u001b[43m \u001b[49m\u001b[43mparams\u001b[49m\u001b[38;5;241;43m=\u001b[39;49m\u001b[43mparams\u001b[49m\u001b[43m,\u001b[49m\u001b[43m \u001b[49m\u001b[38;5;241;43m*\u001b[39;49m\u001b[38;5;241;43m*\u001b[39;49m\u001b[43mkwargs\u001b[49m\u001b[43m)\u001b[49m\n",
            "File \u001b[1;32m~\\.virtualenvs\\cmiv-ai-course-5tIcA6BR\\Lib\\site-packages\\requests\\api.py:59\u001b[0m, in \u001b[0;36mrequest\u001b[1;34m(method, url, **kwargs)\u001b[0m\n\u001b[0;32m     55\u001b[0m \u001b[38;5;66;03m# By using the 'with' statement we are sure the session is closed, thus we\u001b[39;00m\n\u001b[0;32m     56\u001b[0m \u001b[38;5;66;03m# avoid leaving sockets open which can trigger a ResourceWarning in some\u001b[39;00m\n\u001b[0;32m     57\u001b[0m \u001b[38;5;66;03m# cases, and look like a memory leak in others.\u001b[39;00m\n\u001b[0;32m     58\u001b[0m \u001b[38;5;28;01mwith\u001b[39;00m sessions\u001b[38;5;241m.\u001b[39mSession() \u001b[38;5;28;01mas\u001b[39;00m session:\n\u001b[1;32m---> 59\u001b[0m     \u001b[38;5;28;01mreturn\u001b[39;00m \u001b[43msession\u001b[49m\u001b[38;5;241;43m.\u001b[39;49m\u001b[43mrequest\u001b[49m\u001b[43m(\u001b[49m\u001b[43mmethod\u001b[49m\u001b[38;5;241;43m=\u001b[39;49m\u001b[43mmethod\u001b[49m\u001b[43m,\u001b[49m\u001b[43m \u001b[49m\u001b[43murl\u001b[49m\u001b[38;5;241;43m=\u001b[39;49m\u001b[43murl\u001b[49m\u001b[43m,\u001b[49m\u001b[43m \u001b[49m\u001b[38;5;241;43m*\u001b[39;49m\u001b[38;5;241;43m*\u001b[39;49m\u001b[43mkwargs\u001b[49m\u001b[43m)\u001b[49m\n",
            "File \u001b[1;32m~\\.virtualenvs\\cmiv-ai-course-5tIcA6BR\\Lib\\site-packages\\requests\\sessions.py:575\u001b[0m, in \u001b[0;36mSession.request\u001b[1;34m(self, method, url, params, data, headers, cookies, files, auth, timeout, allow_redirects, proxies, hooks, stream, verify, cert, json)\u001b[0m\n\u001b[0;32m    562\u001b[0m \u001b[38;5;66;03m# Create the Request.\u001b[39;00m\n\u001b[0;32m    563\u001b[0m req \u001b[38;5;241m=\u001b[39m Request(\n\u001b[0;32m    564\u001b[0m     method\u001b[38;5;241m=\u001b[39mmethod\u001b[38;5;241m.\u001b[39mupper(),\n\u001b[0;32m    565\u001b[0m     url\u001b[38;5;241m=\u001b[39murl,\n\u001b[1;32m   (...)\u001b[0m\n\u001b[0;32m    573\u001b[0m     hooks\u001b[38;5;241m=\u001b[39mhooks,\n\u001b[0;32m    574\u001b[0m )\n\u001b[1;32m--> 575\u001b[0m prep \u001b[38;5;241m=\u001b[39m \u001b[38;5;28;43mself\u001b[39;49m\u001b[38;5;241;43m.\u001b[39;49m\u001b[43mprepare_request\u001b[49m\u001b[43m(\u001b[49m\u001b[43mreq\u001b[49m\u001b[43m)\u001b[49m\n\u001b[0;32m    577\u001b[0m proxies \u001b[38;5;241m=\u001b[39m proxies \u001b[38;5;129;01mor\u001b[39;00m {}\n\u001b[0;32m    579\u001b[0m settings \u001b[38;5;241m=\u001b[39m \u001b[38;5;28mself\u001b[39m\u001b[38;5;241m.\u001b[39mmerge_environment_settings(\n\u001b[0;32m    580\u001b[0m     prep\u001b[38;5;241m.\u001b[39murl, proxies, stream, verify, cert\n\u001b[0;32m    581\u001b[0m )\n",
            "File \u001b[1;32m~\\.virtualenvs\\cmiv-ai-course-5tIcA6BR\\Lib\\site-packages\\requests\\sessions.py:486\u001b[0m, in \u001b[0;36mSession.prepare_request\u001b[1;34m(self, request)\u001b[0m\n\u001b[0;32m    483\u001b[0m     auth \u001b[38;5;241m=\u001b[39m get_netrc_auth(request\u001b[38;5;241m.\u001b[39murl)\n\u001b[0;32m    485\u001b[0m p \u001b[38;5;241m=\u001b[39m PreparedRequest()\n\u001b[1;32m--> 486\u001b[0m \u001b[43mp\u001b[49m\u001b[38;5;241;43m.\u001b[39;49m\u001b[43mprepare\u001b[49m\u001b[43m(\u001b[49m\n\u001b[0;32m    487\u001b[0m \u001b[43m    \u001b[49m\u001b[43mmethod\u001b[49m\u001b[38;5;241;43m=\u001b[39;49m\u001b[43mrequest\u001b[49m\u001b[38;5;241;43m.\u001b[39;49m\u001b[43mmethod\u001b[49m\u001b[38;5;241;43m.\u001b[39;49m\u001b[43mupper\u001b[49m\u001b[43m(\u001b[49m\u001b[43m)\u001b[49m\u001b[43m,\u001b[49m\n\u001b[0;32m    488\u001b[0m \u001b[43m    \u001b[49m\u001b[43murl\u001b[49m\u001b[38;5;241;43m=\u001b[39;49m\u001b[43mrequest\u001b[49m\u001b[38;5;241;43m.\u001b[39;49m\u001b[43murl\u001b[49m\u001b[43m,\u001b[49m\n\u001b[0;32m    489\u001b[0m \u001b[43m    \u001b[49m\u001b[43mfiles\u001b[49m\u001b[38;5;241;43m=\u001b[39;49m\u001b[43mrequest\u001b[49m\u001b[38;5;241;43m.\u001b[39;49m\u001b[43mfiles\u001b[49m\u001b[43m,\u001b[49m\n\u001b[0;32m    490\u001b[0m \u001b[43m    \u001b[49m\u001b[43mdata\u001b[49m\u001b[38;5;241;43m=\u001b[39;49m\u001b[43mrequest\u001b[49m\u001b[38;5;241;43m.\u001b[39;49m\u001b[43mdata\u001b[49m\u001b[43m,\u001b[49m\n\u001b[0;32m    491\u001b[0m \u001b[43m    \u001b[49m\u001b[43mjson\u001b[49m\u001b[38;5;241;43m=\u001b[39;49m\u001b[43mrequest\u001b[49m\u001b[38;5;241;43m.\u001b[39;49m\u001b[43mjson\u001b[49m\u001b[43m,\u001b[49m\n\u001b[0;32m    492\u001b[0m \u001b[43m    \u001b[49m\u001b[43mheaders\u001b[49m\u001b[38;5;241;43m=\u001b[39;49m\u001b[43mmerge_setting\u001b[49m\u001b[43m(\u001b[49m\n\u001b[0;32m    493\u001b[0m \u001b[43m        \u001b[49m\u001b[43mrequest\u001b[49m\u001b[38;5;241;43m.\u001b[39;49m\u001b[43mheaders\u001b[49m\u001b[43m,\u001b[49m\u001b[43m \u001b[49m\u001b[38;5;28;43mself\u001b[39;49m\u001b[38;5;241;43m.\u001b[39;49m\u001b[43mheaders\u001b[49m\u001b[43m,\u001b[49m\u001b[43m \u001b[49m\u001b[43mdict_class\u001b[49m\u001b[38;5;241;43m=\u001b[39;49m\u001b[43mCaseInsensitiveDict\u001b[49m\n\u001b[0;32m    494\u001b[0m \u001b[43m    \u001b[49m\u001b[43m)\u001b[49m\u001b[43m,\u001b[49m\n\u001b[0;32m    495\u001b[0m \u001b[43m    \u001b[49m\u001b[43mparams\u001b[49m\u001b[38;5;241;43m=\u001b[39;49m\u001b[43mmerge_setting\u001b[49m\u001b[43m(\u001b[49m\u001b[43mrequest\u001b[49m\u001b[38;5;241;43m.\u001b[39;49m\u001b[43mparams\u001b[49m\u001b[43m,\u001b[49m\u001b[43m \u001b[49m\u001b[38;5;28;43mself\u001b[39;49m\u001b[38;5;241;43m.\u001b[39;49m\u001b[43mparams\u001b[49m\u001b[43m)\u001b[49m\u001b[43m,\u001b[49m\n\u001b[0;32m    496\u001b[0m \u001b[43m    \u001b[49m\u001b[43mauth\u001b[49m\u001b[38;5;241;43m=\u001b[39;49m\u001b[43mmerge_setting\u001b[49m\u001b[43m(\u001b[49m\u001b[43mauth\u001b[49m\u001b[43m,\u001b[49m\u001b[43m \u001b[49m\u001b[38;5;28;43mself\u001b[39;49m\u001b[38;5;241;43m.\u001b[39;49m\u001b[43mauth\u001b[49m\u001b[43m)\u001b[49m\u001b[43m,\u001b[49m\n\u001b[0;32m    497\u001b[0m \u001b[43m    \u001b[49m\u001b[43mcookies\u001b[49m\u001b[38;5;241;43m=\u001b[39;49m\u001b[43mmerged_cookies\u001b[49m\u001b[43m,\u001b[49m\n\u001b[0;32m    498\u001b[0m \u001b[43m    \u001b[49m\u001b[43mhooks\u001b[49m\u001b[38;5;241;43m=\u001b[39;49m\u001b[43mmerge_hooks\u001b[49m\u001b[43m(\u001b[49m\u001b[43mrequest\u001b[49m\u001b[38;5;241;43m.\u001b[39;49m\u001b[43mhooks\u001b[49m\u001b[43m,\u001b[49m\u001b[43m \u001b[49m\u001b[38;5;28;43mself\u001b[39;49m\u001b[38;5;241;43m.\u001b[39;49m\u001b[43mhooks\u001b[49m\u001b[43m)\u001b[49m\u001b[43m,\u001b[49m\n\u001b[0;32m    499\u001b[0m \u001b[43m\u001b[49m\u001b[43m)\u001b[49m\n\u001b[0;32m    500\u001b[0m \u001b[38;5;28;01mreturn\u001b[39;00m p\n",
            "File \u001b[1;32m~\\.virtualenvs\\cmiv-ai-course-5tIcA6BR\\Lib\\site-packages\\requests\\models.py:368\u001b[0m, in \u001b[0;36mPreparedRequest.prepare\u001b[1;34m(self, method, url, headers, files, data, params, auth, cookies, hooks, json)\u001b[0m\n\u001b[0;32m    365\u001b[0m \u001b[38;5;250m\u001b[39m\u001b[38;5;124;03m\"\"\"Prepares the entire request with the given parameters.\"\"\"\u001b[39;00m\n\u001b[0;32m    367\u001b[0m \u001b[38;5;28mself\u001b[39m\u001b[38;5;241m.\u001b[39mprepare_method(method)\n\u001b[1;32m--> 368\u001b[0m \u001b[38;5;28;43mself\u001b[39;49m\u001b[38;5;241;43m.\u001b[39;49m\u001b[43mprepare_url\u001b[49m\u001b[43m(\u001b[49m\u001b[43murl\u001b[49m\u001b[43m,\u001b[49m\u001b[43m \u001b[49m\u001b[43mparams\u001b[49m\u001b[43m)\u001b[49m\n\u001b[0;32m    369\u001b[0m \u001b[38;5;28mself\u001b[39m\u001b[38;5;241m.\u001b[39mprepare_headers(headers)\n\u001b[0;32m    370\u001b[0m \u001b[38;5;28mself\u001b[39m\u001b[38;5;241m.\u001b[39mprepare_cookies(cookies)\n",
            "File \u001b[1;32m~\\.virtualenvs\\cmiv-ai-course-5tIcA6BR\\Lib\\site-packages\\requests\\models.py:439\u001b[0m, in \u001b[0;36mPreparedRequest.prepare_url\u001b[1;34m(self, url, params)\u001b[0m\n\u001b[0;32m    436\u001b[0m     \u001b[38;5;28;01mraise\u001b[39;00m InvalidURL(\u001b[38;5;241m*\u001b[39me\u001b[38;5;241m.\u001b[39margs)\n\u001b[0;32m    438\u001b[0m \u001b[38;5;28;01mif\u001b[39;00m \u001b[38;5;129;01mnot\u001b[39;00m scheme:\n\u001b[1;32m--> 439\u001b[0m     \u001b[38;5;28;01mraise\u001b[39;00m MissingSchema(\n\u001b[0;32m    440\u001b[0m         \u001b[38;5;124mf\u001b[39m\u001b[38;5;124m\"\u001b[39m\u001b[38;5;124mInvalid URL \u001b[39m\u001b[38;5;132;01m{\u001b[39;00murl\u001b[38;5;132;01m!r}\u001b[39;00m\u001b[38;5;124m: No scheme supplied. \u001b[39m\u001b[38;5;124m\"\u001b[39m\n\u001b[0;32m    441\u001b[0m         \u001b[38;5;124mf\u001b[39m\u001b[38;5;124m\"\u001b[39m\u001b[38;5;124mPerhaps you meant https://\u001b[39m\u001b[38;5;132;01m{\u001b[39;00murl\u001b[38;5;132;01m}\u001b[39;00m\u001b[38;5;124m?\u001b[39m\u001b[38;5;124m\"\u001b[39m\n\u001b[0;32m    442\u001b[0m     )\n\u001b[0;32m    444\u001b[0m \u001b[38;5;28;01mif\u001b[39;00m \u001b[38;5;129;01mnot\u001b[39;00m host:\n\u001b[0;32m    445\u001b[0m     \u001b[38;5;28;01mraise\u001b[39;00m InvalidURL(\u001b[38;5;124mf\u001b[39m\u001b[38;5;124m\"\u001b[39m\u001b[38;5;124mInvalid URL \u001b[39m\u001b[38;5;132;01m{\u001b[39;00murl\u001b[38;5;132;01m!r}\u001b[39;00m\u001b[38;5;124m: No host supplied\u001b[39m\u001b[38;5;124m\"\u001b[39m)\n",
            "\u001b[1;31mMissingSchema\u001b[0m: Invalid URL 'CHANGE ME': No scheme supplied. Perhaps you meant https://CHANGE ME?"
          ]
        }
      ],
      "source": [
        "import requests\n",
        "\n",
        "# NOTE: update to other info once we have a token specific for the AI course\n",
        "\n",
        "response = requests.get('CHANGE ME')\n",
        "env_vars = response.json()"
      ]
    },
    {
      "cell_type": "code",
      "execution_count": 2,
      "metadata": {},
      "outputs": [
        {
          "data": {
            "text/plain": [
              "{'OPENAI_API_AZURE_ENGINE': 'masve-aida-openai-chatgpt',\n",
              " 'OPENAI_API_BASE': 'https://swedencentral.api.cognitive.microsoft.com/',\n",
              " 'OPENAI_API_KEY': '557684def8a845cc840d224ac807847f',\n",
              " 'OPENAI_API_TYPE': 'azure',\n",
              " 'OPENAI_API_VERSION': '2023-03-15-preview',\n",
              " 'engine_name-ada002': 'masve-aida-openai-ada002',\n",
              " 'engine_name-chatgpt': 'masve-aida-openai-chatgpt',\n",
              " 'engine_name-davinci': 'masve-aida-openai-davinci',\n",
              " 'engine_name-gpt4': 'masve-aida-openai-gpt4',\n",
              " 'engine_name-gpt4-32k': 'masve-aida-openai-gpt4-32k'}"
            ]
          },
          "execution_count": 2,
          "metadata": {},
          "output_type": "execute_result"
        }
      ],
      "source": [
        "env_vars"
      ]
    },
    {
      "cell_type": "code",
      "execution_count": 3,
      "metadata": {
        "id": "rTezC7cN_F_k"
      },
      "outputs": [],
      "source": [
        "import numpy as np\n",
        "import openai\n",
        "\n",
        "openai.api_type = env_vars[\"OPENAI_API_TYPE\"]\n",
        "openai.api_version = env_vars[\"OPENAI_API_VERSION\"]\n",
        "openai.api_base = env_vars[\"OPENAI_API_BASE\"]  # Your Azure OpenAI resource's endpoint value.\n",
        "openai.api_key = env_vars[\"OPENAI_API_KEY\"]\n",
        "openai.api_azure_engine = env_vars[\"OPENAI_API_AZURE_ENGINE\"]\n",
        "\n",
        "model_name = env_vars[\"engine_name-chatgpt\"]"
      ]
    },
    {
      "cell_type": "code",
      "execution_count": 4,
      "metadata": {},
      "outputs": [],
      "source": [
        "def get_completion(prompt, model=model_name, temperature=0):\n",
        "    messages = [{\"role\": \"user\", \"content\": prompt}]\n",
        "    response = openai.ChatCompletion.create(\n",
        "        engine=model,\n",
        "        messages=messages,\n",
        "        temperature=temperature, # this is the degree of randomness of the model's output\n",
        "    )\n",
        "    return response.choices[0].message[\"content\"]"
      ]
    },
    {
      "cell_type": "code",
      "execution_count": 5,
      "metadata": {},
      "outputs": [
        {
          "name": "stdout",
          "output_type": "stream",
          "text": [
            "To get the desired output from a model, it is important to provide clear and specific instructions, preferably in longer prompts, as they offer more clarity and context resulting in more detailed and relevant outputs.\n"
          ]
        }
      ],
      "source": [
        "text = f\"\"\"\n",
        "You should express what you want a model to do by \\ \n",
        "providing instructions that are as clear and \\ \n",
        "specific as you can possibly make them. \\ \n",
        "In many cases, longer prompts provide more clarity \\ \n",
        "and context for the model, which can lead to \\ \n",
        "more detailed and relevant outputs.\n",
        "\"\"\"\n",
        "prompt = f\"\"\"\n",
        "Summarize the text delimited by triple backticks \\ \n",
        "into a single sentence. \n",
        "```{text}```\n",
        "\"\"\"\n",
        "response = get_completion(prompt)\n",
        "print(response)"
      ]
    },
    {
      "cell_type": "code",
      "execution_count": 13,
      "metadata": {},
      "outputs": [
        {
          "name": "stdout",
          "output_type": "stream",
          "text": [
            "CT - CT ABDOMEN AND PELVIS ENHANCED - 24-Feb-2020, 12:45 PM\n",
            "\n",
            "INDICATION: Rule out diverticulitis.\n",
            "\n",
            "TECHNIQUE: Volumetric image acquisition of the abdomen and pelvis with intravenous contrast. Coronal and sagittal reformats were performed post-acquisition.\n",
            "\n",
            "COMPARISON: CT renal colic study from 10/04/16.\n",
            "\n",
            "FINDINGS:\n",
            "\n",
            "There are a few scattered hypoattenuating lesions in the liver likely representing cysts. Cysts were described on the prior CT examination.\n",
            "\n",
            "There is no evidence for colonic diverticulosis or colitis. The appendix is identified and is normal.\n",
            "\n",
            "There is a trace amount of pelvic free fluid identified. There is mild hazy stranding in the left adnexal region which may be inflammatory. A definite adnexal mass or cyst is not seen but a recently ruptured cyst could potentially demonstrate this finding. Please note the gynecologic structures are not optimally assessed by CT.\n",
            "\n",
            "The remainder of the intra-abdominal structures show no gross abnormality. Lung bases are grossly clear.\n",
            "\n",
            "No aggressive bony abnormality is identified.\n",
            "\n",
            "OPINION:\n",
            "\n",
            "No evidence for diverticulosis/diverticulitis/colitis. Appendix is normal.\n",
            "\n",
            "Mild inflammatory change in the left adnexal region which may be secondary to recent ruptured cyst. Ultrasound follow-up could be performed.\n",
            "\n",
            "If you have received this report in error, please return by Fax to Health Information Management at Trillium Health Partners at 905-848-7677. If you don't have access to fax, or have other questions, please call 905-848-7580 ext. 2172.\n"
          ]
        }
      ],
      "source": [
        "text = \"\"\" CT -  CT ABDOMEN AND PELVIS ENHANCED -  24-Feb-2020, 12:45 PM\n",
        "&nbsp;  \n",
        "&nbsp;  \n",
        "INDICATION:  Rule out diverticulitis   .&nbsp;  \n",
        "&nbsp;  \n",
        "TECHNIQUE: Volumetric image acquisition of the       abdomen and pelvis    with   intravenous   contrast.  Coronal  and sagittal  reformats were performed post-acquisition.&nbsp;  \n",
        "&nbsp;  \n",
        "COMPARISON:  CT renal colic study from 10/04/16 &nbsp;  \n",
        "&nbsp;  \n",
        "FINDINGS:&nbsp;  \n",
        "&nbsp;  \n",
        "    There are a few scattered hypoattenuating lesions in the liver likely representing cysts. Cysts were described on the prior CT examination. The&nbsp;  \n",
        "&nbsp;  \n",
        "There is no evidence for colonic diverticulosis or colitis. The appendix is identified and is normal.&nbsp;  \n",
        "&nbsp;  \n",
        "There is a trace amount of pelvic free fluid identified. There is mild hazy stranding in the left adnexal region which may be inflammatory. A definite adnexal mass or cyst is not seen but a recently ruptured cyst could potentially demonstrate this finding. Please note the gynecologic structures are not optimally assessed by CT. &nbsp;  \n",
        "&nbsp;  \n",
        "The    remainder of the    intra-abdominal structures show no gross   abnormality   .Lung bases are grossly clear. &nbsp;  \n",
        "&nbsp;  \n",
        "No aggressive bony abnormality is identified.&nbsp;  \n",
        "&nbsp;  \n",
        "OPINION: &nbsp;  \n",
        "&nbsp;  \n",
        "   No evidence for diverticulosis/diverticulitis/colitis. Appendix is normal.&nbsp;  \n",
        "&nbsp;  \n",
        "Mild inflammatory change in the left adnexal region which may be secondary to recent ruptured cyst. Ultrasound follow-up could be performed. &nbsp;  \n",
        "&nbsp;  \n",
        "If you have received this report in error, please return by Fax to Health Information Management at Trillium Health Partners at 905-848-7677. If you don't have access to fax, or have other questions, please call 905-848-7580 ext. 2172.\"\"\"\n",
        "prompt = f\"\"\"===== Format the text below:  \n",
        " {text}\n",
        " \"\"\"\n",
        "\n",
        "response = get_completion(prompt)\n",
        "print(response)"
      ]
    },
    {
      "cell_type": "code",
      "execution_count": 14,
      "metadata": {},
      "outputs": [
        {
          "name": "stdout",
          "output_type": "stream",
          "text": [
            "This report is about a special kind of picture called a CT scan that shows the inside of your belly and pelvis. The doctor wanted to check if there was a problem called diverticulitis, which is when little pockets form in the colon. They used a special dye that they put in your vein to help them see the pictures better. They also compared these new pictures to ones they took before to see if anything has changed. \n",
            "\n",
            "The report says that there are some small spots in the liver that might be cysts, which are like little bubbles filled with liquid. They saw these on the old pictures too. They also checked the colon and it looks normal, and the appendix is fine too. \n",
            "\n",
            "They found a little bit of fluid in the pelvis, which is the area between your belly and your legs. They also saw some swelling in the left side of the pelvis, which might mean there was a cyst that burst recently. They say that they can't see the girl parts very well with this kind of picture, so they suggest doing an ultrasound to get a better look. \n",
            "\n",
            "Everything else in the belly and pelvis looks normal, and there are no problems with the bones. The doctor's opinion is that there is no diverticulitis or colitis, and the appendix is normal. They think the swelling in the pelvis might be from a burst cyst, but they want to do an ultrasound to be sure. \n",
            "\n",
            "If this report was sent to you by mistake, you can send it back. If you have any questions, you can call the number at the end of the report.\n"
          ]
        }
      ],
      "source": [
        "prompt = f\"\"\"===== Explain the report below to me as if I where 10 years old:  \n",
        " {text}\n",
        " \"\"\"\n",
        "\n",
        "response = get_completion(prompt)\n",
        "print(response)"
      ]
    },
    {
      "cell_type": "code",
      "execution_count": 19,
      "metadata": {},
      "outputs": [
        {
          "name": "stdout",
          "output_type": "stream",
          "text": [
            "=MEDIAN(A1:A5-B3)\n"
          ]
        }
      ],
      "source": [
        "\n"
      ]
    },
    {
      "cell_type": "code",
      "execution_count": 28,
      "metadata": {},
      "outputs": [
        {
          "name": "stdout",
          "output_type": "stream",
          "text": [
            "The 14th letter in \"hello\" is \"o\".\n"
          ]
        }
      ],
      "source": []
    },
    {
      "cell_type": "code",
      "execution_count": 52,
      "metadata": {},
      "outputs": [
        {
          "name": "stdout",
          "output_type": "stream",
          "text": [
            "Based on the description, I would recommend wearing several layers to protect yourself from the wind and stay warm. Here's a suggested outfit:\n",
            "\n",
            "1. Start with a comfortable, long-sleeved base layer such as a lightweight sweater or a thermal shirt.\n",
            "2. Layer a windproof and waterproof jacket or coat on top of the base layer. Make sure it has a hood to protect your head from the wind.\n",
            "3. Pair the jacket with a pair of medium-weight pants or jeans that will keep you warm. Avoid wearing shorts or skirts as they may expose your legs to the wind.\n",
            "4. Wear closed-toe shoes or boots to keep your feet warm and protected. Opt for a pair with good traction in case the ground is slippery.\n",
            "5. Don't forget accessories like a beanie or a hat to cover your head, gloves to keep your hands warm, and a scarf to protect your neck and face from the wind.\n",
            "6. It's also advisable to carry an umbrella in case of rain.\n",
            "\n",
            "Remember to dress in layers that can easily be adjusted according to your comfort levels. Stay warm and stay safe!\n"
          ]
        }
      ],
      "source": []
    },
    {
      "cell_type": "code",
      "execution_count": null,
      "metadata": {},
      "outputs": [],
      "source": []
    }
  ],
  "metadata": {
    "colab": {
      "authorship_tag": "ABX9TyME5AJJ1Ta8MDdJ4Hnr8RGG",
      "include_colab_link": true,
      "provenance": []
    },
    "kernelspec": {
      "display_name": "Python 3",
      "name": "python3"
    },
    "language_info": {
      "codemirror_mode": {
        "name": "ipython",
        "version": 3
      },
      "file_extension": ".py",
      "mimetype": "text/x-python",
      "name": "python",
      "nbconvert_exporter": "python",
      "pygments_lexer": "ipython3",
      "version": "3.11.6"
    }
  },
  "nbformat": 4,
  "nbformat_minor": 0
}
