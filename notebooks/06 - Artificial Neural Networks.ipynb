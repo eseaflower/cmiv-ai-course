{
 "cells": [
  {
   "cell_type": "markdown",
   "metadata": {
    "nbpresent": {
     "id": "5e13607b-3ec5-4a95-a2d8-f898f20748da"
    },
    "slideshow": {
     "slide_type": "slide"
    }
   },
   "source": [
    "## Artificial Neural Networks (ANN)"
   ]
  },
  {
   "cell_type": "markdown",
   "metadata": {
    "slideshow": {
     "slide_type": "slide"
    }
   },
   "source": [
    "## Building Neural Nets from Scratch\n",
    "\n",
    "We will build neural networks based upon the basic principles briefly presented. The intention is to create a very simple model and understand how it works.\n",
    "\n",
    "**Please note that this code is not optimized and not to be used in production**. \n",
    "\n",
    "This is for instructive purpose - for us to understand how ANN works. \n",
    "\n",
    "Libraries like `TensorFlow` have highly optimized code."
   ]
  },
  {
   "cell_type": "markdown",
   "metadata": {
    "slideshow": {
     "slide_type": "skip"
    }
   },
   "source": [
    "(*The following code is inspired from [these](https://github.com/dennybritz/nn-from-scratch) terrific notebooks*)"
   ]
  },
  {
   "cell_type": "code",
   "execution_count": null,
   "metadata": {
    "slideshow": {
     "slide_type": "skip"
    }
   },
   "outputs": [],
   "source": [
    "# Import the required packages\n",
    "import numpy as np\n",
    "import pandas as pd\n",
    "import matplotlib\n",
    "import matplotlib.pyplot as plt\n",
    "import scipy"
   ]
  },
  {
   "cell_type": "code",
   "execution_count": null,
   "metadata": {
    "slideshow": {
     "slide_type": "skip"
    }
   },
   "outputs": [],
   "source": [
    "# Display plots inline \n",
    "%matplotlib inline\n",
    "# Define plot's default figure size\n",
    "matplotlib.rcParams['figure.figsize'] = (10.0, 8.0)"
   ]
  },
  {
   "cell_type": "code",
   "execution_count": null,
   "metadata": {
    "slideshow": {
     "slide_type": "skip"
    }
   },
   "outputs": [],
   "source": [
    "import random\n",
    "random.seed(123)"
   ]
  },
  {
   "cell_type": "code",
   "execution_count": null,
   "metadata": {
    "slideshow": {
     "slide_type": "subslide"
    }
   },
   "outputs": [],
   "source": [
    "# Read the datasets\n",
    "train = pd.read_csv(\"data/intro_to_ann.csv\")\n",
    "\n",
    "# Run the following if running with Colab\n",
    "#train = pd.read_csv(\"https://github.com/fordanic/cmiv-ai-course/raw/master/notebooks/data/intro_to_ann.csv\")"
   ]
  },
  {
   "cell_type": "code",
   "execution_count": null,
   "metadata": {
    "slideshow": {
     "slide_type": "fragment"
    }
   },
   "outputs": [],
   "source": [
    "X, y = np.array(train.iloc[:,0:2]), np.array(train.iloc[:,2])"
   ]
  },
  {
   "cell_type": "code",
   "execution_count": null,
   "metadata": {
    "slideshow": {
     "slide_type": "subslide"
    }
   },
   "outputs": [],
   "source": [
    "# Let's plot the dataset and see what it looks like\n",
    "plt.scatter(X[:,0], X[:,1], s=40, c=y)"
   ]
  },
  {
   "cell_type": "markdown",
   "metadata": {},
   "source": [
    "## Our ANN \n",
    "\n",
    "We will here define all the building blocks needed to build a simple neural network."
   ]
  },
  {
   "cell_type": "code",
   "execution_count": null,
   "metadata": {
    "slideshow": {
     "slide_type": "subslide"
    }
   },
   "outputs": [],
   "source": [
    "# Cretae NxM matrix with random values between [a,b]\n",
    "def initMatrix(N, M, a=0, b=0):\n",
    "    return np.random.rand(N , M)*(b - a) + a\n",
    "\n",
    "# A sigmoid activation function\n",
    "def sigmoid(x):\n",
    "    return 1/(1+np.exp(-x))\n",
    "\n",
    "# The derivative of our activation/sigmoid function, in terms of the output (i.e. y)\n",
    "def dsigmoid(y):\n",
    "    return y - y**2\n",
    "\n",
    "\n",
    "class ANN:\n",
    "    def __init__(self, ni, nh, no):\n",
    "        # Number of input, hidden, and output nodes\n",
    "        self.ni = ni + 1 # +1 for bias node\n",
    "        self.nh = nh\n",
    "        self.no = no\n",
    "\n",
    "        # Activations for nodes\n",
    "        self.ai = np.ones((self.ni,))\n",
    "        self.ah = np.ones((self.nh,))\n",
    "        self.ao = np.ones((self.no,))\n",
    "        \n",
    "        # Create weights\n",
    "        self.wi = initMatrix(self.ni, self.nh, -0.2, 0.2)\n",
    "        self.wo = initMatrix(self.nh, self.no, -2.0, 2.0)\n",
    "                \n",
    "        # last change in weights for momentum   \n",
    "        self.ci = initMatrix(self.ni, self.nh)        \n",
    "        self.co = initMatrix(self.nh, self.no)\n",
    "                \n",
    "\n",
    "    def backPropagate(self, targets, N, M):\n",
    "        \n",
    "        if len(targets) != self.no:\n",
    "            print(targets)\n",
    "            raise ValueError('wrong number of target values')\n",
    "\n",
    "        # Calculate error terms for output                \n",
    "        error = targets-self.ao\n",
    "        output_deltas = dsigmoid(self.ao) * error\n",
    "        \n",
    "        # output_deltas = np.zeros(self.no)\n",
    "        # for k in range(self.no):\n",
    "        #    error = targets[k]-self.ao[k]\n",
    "        #    output_deltas[k] = dsigmoid(self.ao[k]) * error\n",
    "\n",
    "        \n",
    "        # Calculate error terms for hidden        \n",
    "        error = np.dot(self.wo, output_deltas)\n",
    "        hidden_deltas = dsigmoid(self.ah) * error\n",
    "                \n",
    "        #hidden_deltas = np.zeros(self.nh)\n",
    "        #for j in range(self.nh):\n",
    "        #    error = 0.0\n",
    "        #    for k in range(self.no):\n",
    "        #        error += output_deltas[k]*self.wo[j][k]\n",
    "        #    hidden_deltas[j] = dsigmoid(self.ah[j]) * error\n",
    "\n",
    "                \n",
    "        # Update output weights\n",
    "        change = np.outer(self.ah, output_deltas)\n",
    "        self.wo += N*change + M*self.co\n",
    "        self.co = change\n",
    "        \n",
    "        #for j in range(self.nh):\n",
    "        #    for k in range(self.no):\n",
    "        #        change = output_deltas[k] * self.ah[j]\n",
    "        #        self.wo[j][k] += N*change + M*self.co[j][k]\n",
    "        #        self.co[j][k] = change\n",
    "\n",
    "                \n",
    "        # Update input weights\n",
    "        change = np.outer(self.ai, hidden_deltas)\n",
    "        self.wi += N*change + M*self.ci\n",
    "        self.ci = change\n",
    "        \n",
    "        #for i in range(self.ni):\n",
    "        #    for j in range(self.nh):\n",
    "        #        change = hidden_deltas[j]*self.ai[i]\n",
    "        #        self.wi[i][j] += N*change + M*self.ci[i][j]\n",
    "        #        self.ci[i][j] = change\n",
    "\n",
    "                \n",
    "        # Calculate error\n",
    "        error = 0.5*np.sum((targets - self.ao)**2)\n",
    "        \n",
    "        #error = 0.0\n",
    "        #for k in range(len(targets)):\n",
    "        #    error += 0.5*(targets[k]-self.ao[k])**2\n",
    "        return error\n",
    "\n",
    "\n",
    "    def test(self, patterns):\n",
    "        self.predict = np.empty([len(patterns), self.no])\n",
    "        for i, p in enumerate(patterns):\n",
    "            self.predict[i] = self.activate(p)            \n",
    "            \n",
    "    def activate(self, inputs):\n",
    "        \n",
    "        if len(inputs) != self.ni-1:\n",
    "            print(inputs)\n",
    "            raise ValueError('wrong number of inputs')\n",
    "\n",
    "              \n",
    "        # Input activations\n",
    "        self.ai[:-1] = inputs\n",
    "        \n",
    "        # for i in range(self.ni-1):\n",
    "        #     self.ai[i] = inputs[i]\n",
    "        \n",
    "        \n",
    "        # Hidden activations\n",
    "        self.ah = sigmoid(np.dot(self.ai.T, self.wi))        \n",
    "        \n",
    "        # for j in range(self.nh):\n",
    "        #     sum_h = 0.0\n",
    "        #    for i in range(self.ni):\n",
    "        #        sum_h += self.ai[i] * self.wi[i][j]\n",
    "        #    self.ah[j] = sigmoid(sum_h)\n",
    "        \n",
    "        \n",
    "        # Output activations\n",
    "        self.ao = sigmoid(np.dot(self.ah.T, self.wo))\n",
    "                                            \n",
    "        # for k in range(self.no):\n",
    "        #   sum_o = 0.0\n",
    "        #    for j in range(self.nh):\n",
    "        #        sum_o += self.ah[j] * self.wo[j][k]\n",
    "        #    self.ao[k] = sigmoid(sum_o)\n",
    "\n",
    "        return self.ao[:]\n",
    "    \n",
    "\n",
    "    def train(self, patterns, iterations=1000, N=0.5, M=0.1):\n",
    "        # N: learning rate\n",
    "        # M: momentum factor\n",
    "        patterns = list(patterns)\n",
    "        for i in range(iterations):\n",
    "            error = 0.0\n",
    "            for p in patterns:\n",
    "                inputs = p[0]\n",
    "                targets = p[1]\n",
    "                self.activate(inputs)\n",
    "                error += self.backPropagate([targets], N, M)\n",
    "            if i % 5 == 0:\n",
    "                print('error in interation %d : %-.5f' % (i,error))\n",
    "            print('Final training error: %-.5f' % error)"
   ]
  },
  {
   "cell_type": "markdown",
   "metadata": {
    "slideshow": {
     "slide_type": "subslide"
    }
   },
   "source": [
    "### Running the model on our dataset"
   ]
  },
  {
   "cell_type": "code",
   "execution_count": null,
   "metadata": {},
   "outputs": [],
   "source": [
    "# Create a network with two inputs, five hidden, and one output nodes\n",
    "ann = ANN(2, 30, 1)\n",
    "\n",
    "%timeit -n 1 -r 1 ann.train(zip(X,y), iterations=90)"
   ]
  },
  {
   "cell_type": "markdown",
   "metadata": {
    "slideshow": {
     "slide_type": "subslide"
    }
   },
   "source": [
    "### Let's visualize and observe the results"
   ]
  },
  {
   "cell_type": "code",
   "execution_count": null,
   "metadata": {
    "slideshow": {
     "slide_type": "skip"
    }
   },
   "outputs": [],
   "source": [
    "# Helper function to plot a decision boundary.\n",
    "# This generates the contour plot to show the decision boundary visually\n",
    "def plot_decision_boundary(nn_model):\n",
    "    # Set min and max values and give it some padding\n",
    "    x_min, x_max = X[:, 0].min() - .5, X[:, 0].max() + .5\n",
    "    y_min, y_max = X[:, 1].min() - .5, X[:, 1].max() + .5\n",
    "    h = 0.01\n",
    "    # Generate a grid of points with distance h between them\n",
    "    xx, yy = np.meshgrid(np.arange(x_min, x_max, h), \n",
    "                         np.arange(y_min, y_max, h))\n",
    "    # Predict the function value for the whole gid\n",
    "    nn_model.test(np.c_[xx.ravel(), yy.ravel()])\n",
    "    Z = nn_model.predict\n",
    "    Z[Z>=0.5] = 1\n",
    "    Z[Z<0.5] = 0\n",
    "    Z = Z.reshape(xx.shape)\n",
    "    # Plot the contour and training examples\n",
    "    plt.contourf(xx, yy, Z, cmap=plt.cm.Spectral)\n",
    "    plt.scatter(X[:, 0], X[:, 1], s=40,  c=y)"
   ]
  },
  {
   "cell_type": "code",
   "execution_count": null,
   "metadata": {},
   "outputs": [],
   "source": [
    "plot_decision_boundary(ann)\n",
    "plt.title(\"Our initial model\")"
   ]
  },
  {
   "cell_type": "markdown",
   "metadata": {},
   "source": [
    "___\n",
    "## Exercise\n",
    "\n",
    "Create Neural networks with 10 hidden nodes on the above code. \n",
    "\n",
    "What's the impact on accuracy?"
   ]
  },
  {
   "cell_type": "code",
   "execution_count": null,
   "metadata": {},
   "outputs": [],
   "source": [
    "ann = ANN(2, 50, 1)\n",
    "%timeit -n 1 -r 1 ann.train(zip(X,y), iterations=50)\n",
    "plot_decision_boundary(ann)\n",
    "plt.title(\"Our next model with 10 hidden units\")"
   ]
  },
  {
   "cell_type": "markdown",
   "metadata": {},
   "source": [
    "___"
   ]
  },
  {
   "cell_type": "markdown",
   "metadata": {},
   "source": [
    "___\n",
    "## Exercise\n",
    "\n",
    "Train the neural networks by increasing the epochs. \n",
    "\n",
    "What's the impact on accuracy?"
   ]
  },
  {
   "cell_type": "code",
   "execution_count": null,
   "metadata": {},
   "outputs": [],
   "source": [
    "ann = ANN(2, 10, 1)\n",
    "%timeit -n 1 -r 1 ann.train(zip(X,y), iterations=100)\n",
    "plot_decision_boundary(ann)\n",
    "plt.title(\"Our model with 10 hidden units and 100 iterations\")"
   ]
  },
  {
   "cell_type": "markdown",
   "metadata": {
    "collapsed": true
   },
   "source": [
    "___"
   ]
  }
 ],
 "metadata": {
  "anaconda-cloud": {},
  "kernelspec": {
   "display_name": "Python 3",
   "language": "python",
   "name": "python3"
  },
  "language_info": {
   "codemirror_mode": {
    "name": "ipython",
    "version": 3
   },
   "file_extension": ".py",
   "mimetype": "text/x-python",
   "name": "python",
   "nbconvert_exporter": "python",
   "pygments_lexer": "ipython3",
   "version": "3.6.6"
  },
  "nbpresent": {
   "slides": {
    "5445cab1-b2b9-4492-a3be-c4063bd67610": {
     "id": "5445cab1-b2b9-4492-a3be-c4063bd67610",
     "prev": "ef2af7e1-6294-42cf-a434-b1e17cf679a7",
     "regions": {
      "4baa3e75-a346-47d1-a015-c9040545adbd": {
       "attrs": {
        "height": 0.4,
        "width": 0.8,
        "x": 0.1,
        "y": 0.5
       },
       "content": {
        "cell": "8c3060aa-fee9-438c-bc60-4685c0eb4750",
        "part": "whole"
       },
       "id": "4baa3e75-a346-47d1-a015-c9040545adbd"
      },
      "bde8ff6d-7eb8-4d83-b6ba-f57b94dc889d": {
       "attrs": {
        "height": 0.8,
        "width": 0.8,
        "x": 0.1,
        "y": 0.1
       },
       "content": {
        "cell": "3896ecb2-47fa-4dbc-a2ff-9c76e9dfe93e",
        "part": "whole"
       },
       "id": "bde8ff6d-7eb8-4d83-b6ba-f57b94dc889d"
      }
     }
    },
    "d263b7c7-85dc-422a-aec7-fa2c09bc1d23": {
     "id": "d263b7c7-85dc-422a-aec7-fa2c09bc1d23",
     "prev": "ff705989-f5c1-46a1-8f7a-0fe14a949357",
     "regions": {
      "053c599b-2e88-4270-bc7b-1299a2a2bd20": {
       "attrs": {
        "height": 0.8,
        "width": 0.8,
        "x": 0.1,
        "y": 0.1
       },
       "content": {
        "cell": "4fa2e86a-be32-4e78-96d9-f511a07e3908",
        "part": "whole"
       },
       "id": "053c599b-2e88-4270-bc7b-1299a2a2bd20"
      }
     }
    },
    "e3153a08-42da-4785-a596-7a9ebb6a6f19": {
     "id": "e3153a08-42da-4785-a596-7a9ebb6a6f19",
     "prev": "5445cab1-b2b9-4492-a3be-c4063bd67610",
     "regions": {
      "215ebdb3-236e-4a0d-aa65-6b4fb839e5b3": {
       "attrs": {
        "height": 0.4,
        "width": 0.8,
        "x": 0.1,
        "y": 0.5
       },
       "content": {
        "cell": "2f1c6299-954a-461a-b5c1-a86a1d12ad15",
        "part": "whole"
       },
       "id": "215ebdb3-236e-4a0d-aa65-6b4fb839e5b3"
      },
      "6b33306d-283d-47ef-afec-1f8b5e7fa9a5": {
       "attrs": {
        "height": 0.8,
        "width": 0.8,
        "x": 0.1,
        "y": 0.1
       },
       "content": {
        "cell": "6287766f-972f-4b4d-bee7-5418f0af74de",
        "part": "whole"
       },
       "id": "6b33306d-283d-47ef-afec-1f8b5e7fa9a5"
      }
     }
    },
    "edcbed78-ec6f-4c1d-84f0-fb1601a07f1d": {
     "id": "edcbed78-ec6f-4c1d-84f0-fb1601a07f1d",
     "prev": "f912a9b4-1188-440a-b13e-86224d1dada5",
     "regions": {
      "b619970a-3b72-4add-88af-158f75e81f2f": {
       "attrs": {
        "height": 0.8,
        "width": 0.8,
        "x": 0.1,
        "y": 0.1
       },
       "content": {
        "cell": "356d5ec7-3392-4daa-9671-4cc7111c5c91",
        "part": "whole"
       },
       "id": "b619970a-3b72-4add-88af-158f75e81f2f"
      },
      "d86b2236-e08b-44cf-9298-0c818a1c9c88": {
       "attrs": {
        "height": 0.4,
        "width": 0.8,
        "x": 0.1,
        "y": 0.5
       },
       "content": {
        "cell": "5678486b-caf4-440b-be62-2f1286982c71",
        "part": "whole"
       },
       "id": "d86b2236-e08b-44cf-9298-0c818a1c9c88"
      }
     }
    },
    "ef2af7e1-6294-42cf-a434-b1e17cf679a7": {
     "id": "ef2af7e1-6294-42cf-a434-b1e17cf679a7",
     "prev": "f59d310a-ea9f-4360-8151-6ea1c66a66ac",
     "regions": {
      "e33b4032-a118-4ab7-920b-5cd4c1bb0523": {
       "attrs": {
        "height": 0.8,
        "width": 0.8,
        "x": 0.1,
        "y": 0.1
       },
       "content": {
        "cell": "24ca50a0-b9ad-425d-a28f-6bd3ca3ac378",
        "part": "whole"
       },
       "id": "e33b4032-a118-4ab7-920b-5cd4c1bb0523"
      }
     }
    },
    "f59d310a-ea9f-4360-8151-6ea1c66a66ac": {
     "id": "f59d310a-ea9f-4360-8151-6ea1c66a66ac",
     "prev": null,
     "regions": {}
    },
    "f607e60a-8fc2-4061-bbbe-fb75f498cec7": {
     "id": "f607e60a-8fc2-4061-bbbe-fb75f498cec7",
     "prev": "d263b7c7-85dc-422a-aec7-fa2c09bc1d23",
     "regions": {
      "cea17e10-48c1-4b1a-a39e-5462b17adc89": {
       "attrs": {
        "height": 0.8,
        "width": 0.8,
        "x": 0.1,
        "y": 0.1
       },
       "content": {
        "cell": "df0121bc-10f1-4ace-840e-6fc89c6fdc7f",
        "part": "whole"
       },
       "id": "cea17e10-48c1-4b1a-a39e-5462b17adc89"
      },
      "fe327edc-53cc-4a66-b242-ffbc1148099f": {
       "attrs": {
        "height": 0.4,
        "width": 0.8,
        "x": 0.1,
        "y": 0.5
       },
       "content": {
        "cell": "c25d7194-10bd-4196-9d4c-592bf6e188f9",
        "part": "whole"
       },
       "id": "fe327edc-53cc-4a66-b242-ffbc1148099f"
      }
     }
    },
    "f912a9b4-1188-440a-b13e-86224d1dada5": {
     "id": "f912a9b4-1188-440a-b13e-86224d1dada5",
     "prev": "f607e60a-8fc2-4061-bbbe-fb75f498cec7",
     "regions": {
      "213f5824-f494-4cf6-8458-5dd5d629794c": {
       "attrs": {
        "height": 0.4,
        "width": 0.8,
        "x": 0.1,
        "y": 0.5
       },
       "content": {
        "cell": "92d4603e-7e39-4156-818c-785df6189fe8",
        "part": "whole"
       },
       "id": "213f5824-f494-4cf6-8458-5dd5d629794c"
      },
      "b141fdfe-4270-4293-a445-2b5642daf56e": {
       "attrs": {
        "height": 0.8,
        "width": 0.8,
        "x": 0.1,
        "y": 0.1
       },
       "content": {
        "cell": "15260f90-13d1-4fcc-afc6-379c507cb950",
        "part": "whole"
       },
       "id": "b141fdfe-4270-4293-a445-2b5642daf56e"
      }
     }
    },
    "ff705989-f5c1-46a1-8f7a-0fe14a949357": {
     "id": "ff705989-f5c1-46a1-8f7a-0fe14a949357",
     "prev": "e3153a08-42da-4785-a596-7a9ebb6a6f19",
     "regions": {
      "fe64f274-127a-4ab1-9a01-d011d67aa8fb": {
       "attrs": {
        "height": 0.8,
        "width": 0.8,
        "x": 0.1,
        "y": 0.1
       },
       "content": {
        "cell": "5e13607b-3ec5-4a95-a2d8-f898f20748da",
        "part": "whole"
       },
       "id": "fe64f274-127a-4ab1-9a01-d011d67aa8fb"
      }
     }
    }
   },
   "themes": {
    "default": "cdfd905a-2df0-447c-8f49-becf28e8e1b1",
    "theme": {
     "cdfd905a-2df0-447c-8f49-becf28e8e1b1": {
      "id": "cdfd905a-2df0-447c-8f49-becf28e8e1b1",
      "palette": {
       "19cc588f-0593-49c9-9f4b-e4d7cc113b1c": {
        "id": "19cc588f-0593-49c9-9f4b-e4d7cc113b1c",
        "rgb": [
         252,
         252,
         252
        ]
       },
       "31af15d2-7e15-44c5-ab5e-e04b16a89eff": {
        "id": "31af15d2-7e15-44c5-ab5e-e04b16a89eff",
        "rgb": [
         68,
         68,
         68
        ]
       },
       "50f92c45-a630-455b-aec3-788680ec7410": {
        "id": "50f92c45-a630-455b-aec3-788680ec7410",
        "rgb": [
         155,
         177,
         192
        ]
       },
       "c5cc3653-2ee1-402a-aba2-7caae1da4f6c": {
        "id": "c5cc3653-2ee1-402a-aba2-7caae1da4f6c",
        "rgb": [
         43,
         126,
         184
        ]
       },
       "efa7f048-9acb-414c-8b04-a26811511a21": {
        "id": "efa7f048-9acb-414c-8b04-a26811511a21",
        "rgb": [
         25.118061674008803,
         73.60176211453744,
         107.4819383259912
        ]
       }
      },
      "rules": {
       "blockquote": {
        "color": "50f92c45-a630-455b-aec3-788680ec7410"
       },
       "code": {
        "font-family": "Anonymous Pro"
       },
       "h1": {
        "color": "c5cc3653-2ee1-402a-aba2-7caae1da4f6c",
        "font-family": "Lato",
        "font-size": 8
       },
       "h2": {
        "color": "c5cc3653-2ee1-402a-aba2-7caae1da4f6c",
        "font-family": "Lato",
        "font-size": 6
       },
       "h3": {
        "color": "50f92c45-a630-455b-aec3-788680ec7410",
        "font-family": "Lato",
        "font-size": 5.5
       },
       "h4": {
        "color": "c5cc3653-2ee1-402a-aba2-7caae1da4f6c",
        "font-family": "Lato",
        "font-size": 5
       },
       "h5": {
        "font-family": "Lato"
       },
       "h6": {
        "font-family": "Lato"
       },
       "h7": {
        "font-family": "Lato"
       },
       "pre": {
        "font-family": "Anonymous Pro",
        "font-size": 4
       }
      },
      "text-base": {
       "font-family": "Merriweather",
       "font-size": 4
      }
     }
    }
   }
  }
 },
 "nbformat": 4,
 "nbformat_minor": 1
}
