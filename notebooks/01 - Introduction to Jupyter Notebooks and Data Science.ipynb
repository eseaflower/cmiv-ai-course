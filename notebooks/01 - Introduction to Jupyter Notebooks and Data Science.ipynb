{
  "nbformat": 4,
  "nbformat_minor": 0,
  "metadata": {
    "colab": {
      "name": "01 - Introduction to Jupyter Notebooks and Data Science.ipynb",
      "version": "0.3.2",
      "provenance": [],
      "toc_visible": true
    },
    "kernelspec": {
      "display_name": "Python 3",
      "language": "python",
      "name": "python3"
    }
  },
  "cells": [
    {
      "cell_type": "markdown",
      "metadata": {
        "colab_type": "text",
        "id": "a3HWSQhA_dRN"
      },
      "source": [
        "# Jupyter Notebooks and Data Science"
      ]
    },
    {
      "cell_type": "markdown",
      "metadata": {
        "colab_type": "text",
        "id": "aDiH_dW4_dRR"
      },
      "source": [
        "First and foremost, Jupyter Notebooks are interactive environments for writing and running code. The notebook is capable of running code in a variety of languages. However, each notebook is associated with a single kernel. This notebook is associated with the IPython kernel, and therefore runs Python code."
      ]
    },
    {
      "cell_type": "markdown",
      "metadata": {
        "colab_type": "text",
        "id": "7da3l0cV_dRU"
      },
      "source": [
        "## Cells\n",
        "The content of each notebook is split into cells. A cell can typically consist of text and images (markdown format) or code that can be executed. To enter edit mode, in order to change the content of a cell, press ``[Enter]``. To leave the edit mode press ``[Esc]``. To produce the output from a cell, the cell has to be run (executed)."
      ]
    },
    {
      "cell_type": "code",
      "metadata": {
        "id": "AG20X0ZVGH0q",
        "colab_type": "code",
        "colab": {}
      },
      "source": [
        "a = 10\n",
        "b = 0.7"
      ],
      "execution_count": 0,
      "outputs": []
    },
    {
      "cell_type": "code",
      "metadata": {
        "id": "lbP7sXdCGIQz",
        "colab_type": "code",
        "colab": {
          "base_uri": "https://localhost:8080/",
          "height": 51
        },
        "outputId": "38e9877e-b780-45fa-9f36-a4d721f74c19"
      },
      "source": [
        "print(a)\n",
        "print(b)\n"
      ],
      "execution_count": 102,
      "outputs": [
        {
          "output_type": "stream",
          "text": [
            "10\n",
            "0.7\n"
          ],
          "name": "stdout"
        }
      ]
    },
    {
      "cell_type": "markdown",
      "metadata": {
        "id": "oxzkmtapGIoz",
        "colab_type": "text"
      },
      "source": [
        "\n",
        "\n",
        "---\n",
        "\n"
      ]
    },
    {
      "cell_type": "markdown",
      "metadata": {
        "colab_type": "text",
        "id": "2ETZQtZ0_dRr"
      },
      "source": [
        "## Numpy Arrays\n",
        "\n",
        "Manipulating `numpy` arrays is an important part of doing machine learning (or, really, any type of scientific computation) in Python. Let's quickly go through some of the most important features."
      ]
    },
    {
      "cell_type": "code",
      "metadata": {
        "colab_type": "code",
        "id": "0lIAGXjW_dRs",
        "colab": {
          "base_uri": "https://localhost:8080/",
          "height": 68
        },
        "outputId": "12e93580-50cd-4125-f326-2678b74c5bd2"
      },
      "source": [
        "import numpy as np\n",
        "\n",
        "# Setting a random seed for reproducibility\n",
        "rnd = np.random.RandomState(seed=123)\n",
        "\n",
        "# Generating a random array\n",
        "X = rnd.uniform(low=0.0, high=1.0, size=(3, 5))  # a 3 x 5 array\n",
        "\n",
        "print(X)"
      ],
      "execution_count": 103,
      "outputs": [
        {
          "output_type": "stream",
          "text": [
            "[[0.69646919 0.28613933 0.22685145 0.55131477 0.71946897]\n",
            " [0.42310646 0.9807642  0.68482974 0.4809319  0.39211752]\n",
            " [0.34317802 0.72904971 0.43857224 0.0596779  0.39804426]]\n"
          ],
          "name": "stdout"
        }
      ]
    },
    {
      "cell_type": "code",
      "metadata": {
        "id": "ZnBh3vF0LmVG",
        "colab_type": "code",
        "colab": {
          "base_uri": "https://localhost:8080/",
          "height": 34
        },
        "outputId": "040a2ecd-44cd-48b8-df71-d672d49c6b16"
      },
      "source": [
        "# Get array shape (number of rows and columns)\n",
        "print(\"Shape of X: \", X.shape)"
      ],
      "execution_count": 104,
      "outputs": [
        {
          "output_type": "stream",
          "text": [
            "Shape of X:  (3, 5)\n"
          ],
          "name": "stdout"
        }
      ]
    },
    {
      "cell_type": "code",
      "metadata": {
        "colab_type": "code",
        "id": "mlYTp23D_dSL",
        "colab": {
          "base_uri": "https://localhost:8080/",
          "height": 119
        },
        "outputId": "a4d2e37b-a8de-4276-bf2a-ac5465773e79"
      },
      "source": [
        "# Reshaping an array\n",
        "X_reshaped = X.reshape(5, 3)\n",
        "print(X_reshaped)\n",
        "print(\"New shape: \", X_reshaped.shape)"
      ],
      "execution_count": 105,
      "outputs": [
        {
          "output_type": "stream",
          "text": [
            "[[0.69646919 0.28613933 0.22685145]\n",
            " [0.55131477 0.71946897 0.42310646]\n",
            " [0.9807642  0.68482974 0.4809319 ]\n",
            " [0.39211752 0.34317802 0.72904971]\n",
            " [0.43857224 0.0596779  0.39804426]]\n",
            "New shape:  (5, 3)\n"
          ],
          "name": "stdout"
        }
      ]
    },
    {
      "cell_type": "markdown",
      "metadata": {
        "colab_type": "text",
        "id": "CD3oTMUP_dRv"
      },
      "source": [
        "Note that NumPy arrays use 0-indexing just like other data structures in Python."
      ]
    },
    {
      "cell_type": "code",
      "metadata": {
        "colab_type": "code",
        "id": "AdVdfljS_dRx",
        "colab": {
          "base_uri": "https://localhost:8080/",
          "height": 68
        },
        "outputId": "90aa06af-973d-48e7-c573-5ac80e817628"
      },
      "source": [
        "# Accessing elements\n",
        "\n",
        "# Get a single element \n",
        "# (here: an element in the first row and column)\n",
        "print(\"First element, first row: \", X[0, 0])\n",
        "\n",
        "# Get a row \n",
        "# (here: 2nd row)\n",
        "print(\"Second row: \",X[1])\n",
        "\n",
        "# Get a column\n",
        "# (here: 2nd column)\n",
        "print(\"Second column: \",X[:, 1])"
      ],
      "execution_count": 106,
      "outputs": [
        {
          "output_type": "stream",
          "text": [
            "First element, first row:  0.6964691855978616\n",
            "Second row:  [0.42310646 0.9807642  0.68482974 0.4809319  0.39211752]\n",
            "Second column:  [0.28613933 0.9807642  0.72904971]\n"
          ],
          "name": "stdout"
        }
      ]
    },
    {
      "cell_type": "code",
      "metadata": {
        "colab_type": "code",
        "id": "e7ZcWZk0_dSO",
        "colab": {
          "base_uri": "https://localhost:8080/",
          "height": 85
        },
        "outputId": "2803ca5b-9578-4584-f969-04067e5f53be"
      },
      "source": [
        "# Indexing by an array of integers (fancy indexing)\n",
        "indices = np.array([3, 1, 0])\n",
        "print(indices)\n",
        "print(X[:, indices])"
      ],
      "execution_count": 107,
      "outputs": [
        {
          "output_type": "stream",
          "text": [
            "[3 1 0]\n",
            "[[0.55131477 0.28613933 0.69646919]\n",
            " [0.4809319  0.9807642  0.42310646]\n",
            " [0.0596779  0.72904971 0.34317802]]\n"
          ],
          "name": "stdout"
        }
      ]
    },
    {
      "cell_type": "code",
      "metadata": {
        "colab_type": "code",
        "id": "DFE3ffyG_dSA",
        "colab": {
          "base_uri": "https://localhost:8080/",
          "height": 34
        },
        "outputId": "c56a50de-d76d-402a-8c05-fc66d4c39173"
      },
      "source": [
        "# Creating a row vector\n",
        "# of evenly spaced numbers over a specified interval.\n",
        "y = np.linspace(0, 12, 5) # Start at 0, stop at 12, print 5 numbers equally spaced\n",
        "print(y)"
      ],
      "execution_count": 108,
      "outputs": [
        {
          "output_type": "stream",
          "text": [
            "[ 0.  3.  6.  9. 12.]\n"
          ],
          "name": "stdout"
        }
      ]
    },
    {
      "cell_type": "code",
      "metadata": {
        "colab_type": "code",
        "id": "bsqFSUAd_dR2",
        "colab": {
          "base_uri": "https://localhost:8080/",
          "height": 102
        },
        "outputId": "005847df-6f41-4738-ad84-95122ad8d805"
      },
      "source": [
        "# Transposing an array\n",
        "print(X.T)\n",
        "\n",
        "# What's the difference from reshape?"
      ],
      "execution_count": 110,
      "outputs": [
        {
          "output_type": "stream",
          "text": [
            "[[0.69646919 0.42310646 0.34317802]\n",
            " [0.28613933 0.9807642  0.72904971]\n",
            " [0.22685145 0.68482974 0.43857224]\n",
            " [0.55131477 0.4809319  0.0596779 ]\n",
            " [0.71946897 0.39211752 0.39804426]]\n"
          ],
          "name": "stdout"
        }
      ]
    },
    {
      "cell_type": "markdown",
      "metadata": {
        "colab_type": "text",
        "id": "rd50iw_i_dR-"
      },
      "source": [
        "$$\\begin{bmatrix}\n",
        "    1 & 2 & 3 & 4 \\\\\n",
        "    5 & 6 & 7 & 8\n",
        "\\end{bmatrix}^T\n",
        "= \n",
        "\\begin{bmatrix}\n",
        "    1 & 5 \\\\\n",
        "    2 & 6 \\\\\n",
        "    3 & 7 \\\\\n",
        "    4 & 8\n",
        "\\end{bmatrix}\n",
        "$$"
      ]
    },
    {
      "cell_type": "code",
      "metadata": {
        "colab_type": "code",
        "id": "71opIs47_dSH",
        "colab": {
          "base_uri": "https://localhost:8080/",
          "height": 119
        },
        "outputId": "5347a2f7-95a8-4952-86d6-4caae0b371b9"
      },
      "source": [
        "# Turning the row vector into a column vector\n",
        "print(y)\n",
        "print(y[:, np.newaxis])"
      ],
      "execution_count": 111,
      "outputs": [
        {
          "output_type": "stream",
          "text": [
            "[ 0.  3.  6.  9. 12.]\n",
            "[[ 0.]\n",
            " [ 3.]\n",
            " [ 6.]\n",
            " [ 9.]\n",
            " [12.]]\n"
          ],
          "name": "stdout"
        }
      ]
    },
    {
      "cell_type": "markdown",
      "metadata": {
        "colab_type": "text",
        "id": "I4OZzniC_dSS"
      },
      "source": [
        "There is much, much more to know, but these few operations are fundamental to what we'll\n",
        "do during this tutorial."
      ]
    },
    {
      "cell_type": "markdown",
      "metadata": {
        "id": "a25rPEjWGI1T",
        "colab_type": "text"
      },
      "source": [
        "\n",
        "\n",
        "---\n",
        "\n"
      ]
    },
    {
      "cell_type": "markdown",
      "metadata": {
        "colab_type": "text",
        "id": "OrxlPt22_dSW"
      },
      "source": [
        "## matplotlib\n",
        "\n",
        "Another important part of machine learning is the visualization of data. The most common tool for this in Python is [`matplotlib`](http://matplotlib.org).\n",
        "\n",
        "Since we are using Jupyter notebooks, let us use one of IPython's convenient built-in \"[magic functions](https://ipython.org/ipython-doc/3/interactive/magics.html)\", the \"matoplotlib inline\" mode, which will draw the plots directly inside the notebook."
      ]
    },
    {
      "cell_type": "code",
      "metadata": {
        "colab_type": "code",
        "id": "29nPQxTt_dSX",
        "colab": {}
      },
      "source": [
        "%matplotlib inline"
      ],
      "execution_count": 0,
      "outputs": []
    },
    {
      "cell_type": "code",
      "metadata": {
        "colab_type": "code",
        "id": "laUF_ysx_dSa",
        "colab": {}
      },
      "source": [
        "import matplotlib.pyplot as plt"
      ],
      "execution_count": 0,
      "outputs": []
    },
    {
      "cell_type": "code",
      "metadata": {
        "colab_type": "code",
        "id": "17T8eM8Q_dSc",
        "colab": {
          "base_uri": "https://localhost:8080/",
          "height": 269
        },
        "outputId": "8e622951-d337-490c-8c12-701828e81b2f"
      },
      "source": [
        "# Plotting a line\n",
        "x = np.linspace(0, 10, 100)\n",
        "plt.plot(x, np.sin(x));"
      ],
      "execution_count": 114,
      "outputs": [
        {
          "output_type": "display_data",
          "data": {
            "image/png": "[encoded data removed]",
            "text/plain": [
              "<Figure size 432x288 with 1 Axes>"
            ]
          },
          "metadata": {
            "tags": []
          }
        }
      ]
    },
    {
      "cell_type": "code",
      "metadata": {
        "colab_type": "code",
        "id": "iB19_SZ-_dSh",
        "colab": {
          "base_uri": "https://localhost:8080/",
          "height": 269
        },
        "outputId": "03faf315-e9e3-477e-898d-3d0a5f8a7d54"
      },
      "source": [
        "# Scatter-plot points\n",
        "x = np.random.normal(size=500)\n",
        "y = np.random.normal(size=500)\n",
        "plt.scatter(x, y);"
      ],
      "execution_count": 115,
      "outputs": [
        {
          "output_type": "display_data",
          "data": {
            "image/png": "[encoded data removed]",
            "text/plain": [
              "<Figure size 432x288 with 1 Axes>"
            ]
          },
          "metadata": {
            "tags": []
          }
        }
      ]
    },
    {
      "cell_type": "code",
      "metadata": {
        "colab_type": "code",
        "id": "sozcPs41_dSm",
        "colab": {
          "base_uri": "https://localhost:8080/",
          "height": 286
        },
        "outputId": "5eb65327-a13a-42f0-e71a-91363105b948"
      },
      "source": [
        "# Showing images using imshow\n",
        "# - note that origin is at the top-left by default!\n",
        "\n",
        "x = np.linspace(1, 12, 100)\n",
        "y = x[:, np.newaxis]\n",
        "\n",
        "im = y * np.sin(x) * np.cos(y) # Generate a black and white image\n",
        "print(im.shape)\n",
        "\n",
        "plt.imshow(im);"
      ],
      "execution_count": 116,
      "outputs": [
        {
          "output_type": "stream",
          "text": [
            "(100, 100)\n"
          ],
          "name": "stdout"
        },
        {
          "output_type": "display_data",
          "data": {
            "image/png": "[encoded data removed]",
            "text/plain": [
              "<Figure size 432x288 with 1 Axes>"
            ]
          },
          "metadata": {
            "tags": []
          }
        }
      ]
    },
    {
      "cell_type": "markdown",
      "metadata": {
        "id": "3iH3RmJhNmas",
        "colab_type": "text"
      },
      "source": [
        "There are many, many more plot types available.  You can easily explore them in the [matplotlib gallery](http://matplotlib.org/gallery.html)."
      ]
    },
    {
      "cell_type": "markdown",
      "metadata": {
        "id": "E1iAtLFwGI6D",
        "colab_type": "text"
      },
      "source": [
        "\n",
        "\n",
        "---\n",
        "\n"
      ]
    },
    {
      "cell_type": "markdown",
      "metadata": {
        "id": "XzHzL9PUQh_w",
        "colab_type": "text"
      },
      "source": [
        "## **scikit-learn** "
      ]
    },
    {
      "cell_type": "markdown",
      "metadata": {
        "id": "8U2L3sbyTQQ4",
        "colab_type": "text"
      },
      "source": [
        "scikit-learn contains a lot of functions for algorithms we will use thoughout the course, but also some buit it datasets.\n",
        "In this notebook, we will do some data exploring using a scikit-learn dataset, in the following notebooks, we will do some analysis as well"
      ]
    },
    {
      "cell_type": "code",
      "metadata": {
        "id": "N9_DpWC1Qh0c",
        "colab_type": "code",
        "colab": {}
      },
      "source": [
        "from sklearn.datasets import load_iris"
      ],
      "execution_count": 0,
      "outputs": []
    },
    {
      "cell_type": "code",
      "metadata": {
        "id": "E4NWp1HeQhxa",
        "colab_type": "code",
        "colab": {}
      },
      "source": [
        "# Read the Iris-dataset\n",
        "iris = load_iris()"
      ],
      "execution_count": 0,
      "outputs": []
    },
    {
      "cell_type": "markdown",
      "metadata": {
        "id": "d6q1iuB5QhpD",
        "colab_type": "text"
      },
      "source": [
        "### Understanding the data\n",
        "<img src=\"https://github.com/fordanic/cmiv-ai-course/blob/master/notebooks/figures/iris-machinelearning.png?raw=1\" width=\"70%\">\n",
        "\n",
        "(Source: https://www.datacamp.com/community/tutorials/machine-learning-in-r)"
      ]
    },
    {
      "cell_type": "markdown",
      "metadata": {
        "colab_type": "text",
        "id": "Bc-c_stkTxB3"
      },
      "source": [
        "The resulting dataset is a ``Bunch`` object: you can see what's available using\n",
        "the method ``keys()``:"
      ]
    },
    {
      "cell_type": "code",
      "metadata": {
        "id": "8ewqyduXQhus",
        "colab_type": "code",
        "colab": {
          "base_uri": "https://localhost:8080/",
          "height": 34
        },
        "outputId": "b6fe03b8-a99f-425a-9f51-7f6ce5dddfb0"
      },
      "source": [
        "iris.keys()"
      ],
      "execution_count": 120,
      "outputs": [
        {
          "output_type": "execute_result",
          "data": {
            "text/plain": [
              "dict_keys(['data', 'target', 'target_names', 'DESCR', 'feature_names', 'filename'])"
            ]
          },
          "metadata": {
            "tags": []
          },
          "execution_count": 120
        }
      ]
    },
    {
      "cell_type": "code",
      "metadata": {
        "id": "O8pdRi7eQhr5",
        "colab_type": "code",
        "colab": {
          "base_uri": "https://localhost:8080/",
          "height": 51
        },
        "outputId": "876c512c-ed49-4e5d-bf1e-8803c0f05d14"
      },
      "source": [
        "# Lets have a look at the data\n",
        "n_samples, n_features = iris.data.shape\n",
        "print('Number of samples:', n_samples)\n",
        "print('Number of features:', n_features)"
      ],
      "execution_count": 121,
      "outputs": [
        {
          "output_type": "stream",
          "text": [
            "Number of samples: 150\n",
            "Number of features: 4\n"
          ],
          "name": "stdout"
        }
      ]
    },
    {
      "cell_type": "code",
      "metadata": {
        "colab_type": "code",
        "id": "_-fbOnMrTxCF",
        "colab": {
          "base_uri": "https://localhost:8080/",
          "height": 119
        },
        "outputId": "c24ce669-df97-47f5-8c97-31074d459443"
      },
      "source": [
        "print(iris.target_names)\n",
        "print(iris.target)"
      ],
      "execution_count": 122,
      "outputs": [
        {
          "output_type": "stream",
          "text": [
            "['setosa' 'versicolor' 'virginica']\n",
            "[0 0 0 0 0 0 0 0 0 0 0 0 0 0 0 0 0 0 0 0 0 0 0 0 0 0 0 0 0 0 0 0 0 0 0 0 0\n",
            " 0 0 0 0 0 0 0 0 0 0 0 0 0 1 1 1 1 1 1 1 1 1 1 1 1 1 1 1 1 1 1 1 1 1 1 1 1\n",
            " 1 1 1 1 1 1 1 1 1 1 1 1 1 1 1 1 1 1 1 1 1 1 1 1 1 1 2 2 2 2 2 2 2 2 2 2 2\n",
            " 2 2 2 2 2 2 2 2 2 2 2 2 2 2 2 2 2 2 2 2 2 2 2 2 2 2 2 2 2 2 2 2 2 2 2 2 2\n",
            " 2 2]\n"
          ],
          "name": "stdout"
        }
      ]
    },
    {
      "cell_type": "code",
      "metadata": {
        "colab_type": "code",
        "id": "zpNnFX_ATxCI",
        "colab": {
          "base_uri": "https://localhost:8080/",
          "height": 34
        },
        "outputId": "62d98e90-e175-4cf8-e1df-f5af542bd11e"
      },
      "source": [
        "print('Number of samples for each target label: ', np.bincount(iris.target))"
      ],
      "execution_count": 124,
      "outputs": [
        {
          "output_type": "stream",
          "text": [
            "Number of samples for each target label:  [50 50 50]\n"
          ],
          "name": "stdout"
        }
      ]
    },
    {
      "cell_type": "code",
      "metadata": {
        "id": "qtiAf0wSWOls",
        "colab_type": "code",
        "colab": {
          "base_uri": "https://localhost:8080/",
          "height": 85
        },
        "outputId": "30d1ea63-fbcf-42ad-cc81-9c694214867f"
      },
      "source": [
        "# We had 4 features - what are they?\n",
        "iris.feature_names"
      ],
      "execution_count": 125,
      "outputs": [
        {
          "output_type": "execute_result",
          "data": {
            "text/plain": [
              "['sepal length (cm)',\n",
              " 'sepal width (cm)',\n",
              " 'petal length (cm)',\n",
              " 'petal width (cm)']"
            ]
          },
          "metadata": {
            "tags": []
          },
          "execution_count": 125
        }
      ]
    },
    {
      "cell_type": "markdown",
      "metadata": {
        "colab_type": "text",
        "id": "-rs8NkACTxCP"
      },
      "source": [
        "This data is four dimensional, but we can visualize one or two of the dimensions\n",
        "at a time using a simple histogram or scatter-plot.  Again, we'll start by enabling\n",
        "matplotlib inline mode:"
      ]
    },
    {
      "cell_type": "code",
      "metadata": {
        "colab_type": "code",
        "id": "IO5KRJ27TxCV",
        "colab": {
          "base_uri": "https://localhost:8080/",
          "height": 300
        },
        "outputId": "ea591e39-3e19-449b-f2a9-081c27ff0a71"
      },
      "source": [
        "# Plot one feature for all flower types\n",
        "\n",
        "feature_index = 0\n",
        "print(\"Plotting\", iris.feature_names[feature_index])\n",
        "\n",
        "colors = ['blue', 'red', 'green']\n",
        "\n",
        "for label, color in zip(range(len(iris.target_names)), colors):\n",
        "    plt.hist(iris.data[iris.target==label, feature_index], \n",
        "             label=iris.target_names[label],\n",
        "             color=color)\n",
        "\n",
        "plt.xlabel(iris.feature_names[feature_index])\n",
        "plt.legend(loc='upper right')\n",
        "\n",
        "plt.show()"
      ],
      "execution_count": 129,
      "outputs": [
        {
          "output_type": "stream",
          "text": [
            "Plotting sepal length (cm)\n"
          ],
          "name": "stdout"
        },
        {
          "output_type": "display_data",
          "data": {
            "image/png": "[encoded data removed]",
            "text/plain": [
              "<Figure size 432x288 with 1 Axes>"
            ]
          },
          "metadata": {
            "tags": []
          }
        }
      ]
    },
    {
      "cell_type": "markdown",
      "metadata": {
        "id": "Yawuc41QQhh6",
        "colab_type": "text"
      },
      "source": [
        "\n",
        "\n",
        "---\n",
        "\n"
      ]
    },
    {
      "cell_type": "markdown",
      "metadata": {
        "id": "MdIk7FM2Qhb9",
        "colab_type": "text"
      },
      "source": [
        "# Appendix"
      ]
    },
    {
      "cell_type": "markdown",
      "metadata": {
        "colab_type": "text",
        "id": "wj-f7ATi_dRW"
      },
      "source": [
        "## Running cells\n",
        "You can run a selected cell by pressing the \"play\" button next to the cell (visible when hovering over the square brackets), or  by pressing ``[Shift] + [Enter]``.\n",
        "\n",
        "![](https://github.com/fordanic/cmiv-ai-course/blob/master/notebooks/figures/colab_runcell.PNG?raw=1)\n",
        "\n",
        "There are two other keyboard shortcuts for running code:\n",
        "\n",
        "* `Alt + Enter` runs the current cell and inserts a new one below.\n",
        "* `Ctrl + Enter` run the selected cells.\n",
        "\n",
        "Run the following two cells using the different keyboard shortcuts.\n",
        "\n",
        "Note, when using **Jupyter Notebook ** to run the notebook, the text cells as well as the code cells need to be executed. Using this interface, there is no \"play\" button to the right of the cell, but a toolbar at the top of the page. The keyboard shotcuts are the same.\n",
        "\n",
        "![](https://github.com/fordanic/cmiv-ai-course/blob/master/notebooks/figures/ipython_run_cell.png?raw=1)"
      ]
    },
    {
      "cell_type": "markdown",
      "metadata": {
        "colab_type": "text",
        "id": "Dlvv0rYv_dRl"
      },
      "source": [
        "## Other shortcuts for working with cells\n",
        "The following additional keyboard shortcuts are useful to know:\n",
        "* ``Ctrl+m, y`` - Convert cell to code (y)\n",
        "* ``Ctrl+m, m`` - Convert cell to markdown (m)\n",
        "* ``Ctrl+m, a/b`` - Insert cell above/below ( a/b)\n",
        "* ``Ctrl+m, d, d`` - Delete selected cell (d)\n",
        "* ``Ctrl+m, h`` - Show keyboard shortcut help dialog (h)\n",
        "\n",
        "Shortcuts in () are for Jupyter Notebook, i.e. for Colab you need to add ``Ctrl+m`` before each command."
      ]
    },
    {
      "cell_type": "markdown",
      "metadata": {
        "colab_type": "text",
        "id": "ExDhD4tT_dRm"
      },
      "source": [
        "The following additional keyboard shortcuts for edit mode are useful to know:\n",
        "* ``Tab`` - Code completion or indent"
      ]
    },
    {
      "cell_type": "markdown",
      "metadata": {
        "colab_type": "text",
        "id": "6aGFSvbu_dRo"
      },
      "source": [
        "## Help on functions or objects\n",
        "\n",
        "You can get help on a function or object by pressing ``[Shift] + [tab]`` after the opening parenthesis ``function(``\n",
        "\n",
        "![](https://github.com/fordanic/cmiv-ai-course/blob/master/notebooks/figures/ipython_help-1.png?raw=1)\n",
        "\n",
        "You can also get help by executing ``function?``\n",
        "\n",
        "![](https://github.com/fordanic/cmiv-ai-course/blob/master/notebooks/figures/ipython_help-2.png?raw=1)"
      ]
    },
    {
      "cell_type": "markdown",
      "metadata": {
        "id": "u-ppqS9SNbhU",
        "colab_type": "text"
      },
      "source": [
        "## (Advanced) More on plots..."
      ]
    },
    {
      "cell_type": "code",
      "metadata": {
        "colab_type": "code",
        "id": "4tDq8yVA_dSu",
        "colab": {}
      },
      "source": [
        "# Contour plots \n",
        "# - note that origin here is at the bottom-left by default!\n",
        "plt.contour(im);"
      ],
      "execution_count": 0,
      "outputs": []
    },
    {
      "cell_type": "code",
      "metadata": {
        "colab_type": "code",
        "id": "ol1E6lRP_dSx",
        "colab": {}
      },
      "source": [
        "# 3D plotting\n",
        "from mpl_toolkits.mplot3d import Axes3D\n",
        "ax = plt.axes(projection='3d')\n",
        "xgrid, ygrid = np.meshgrid(x, y.ravel())\n",
        "ax.plot_surface(xgrid, ygrid, im, cmap=plt.cm.viridis, cstride=2, rstride=2, linewidth=0);"
      ],
      "execution_count": 0,
      "outputs": []
    },
    {
      "cell_type": "markdown",
      "metadata": {
        "colab_type": "text",
        "id": "peAQ2XG__dS3"
      },
      "source": [
        "There are many, many more plot types available.  One useful way to explore these is by looking at the [matplotlib gallery](http://matplotlib.org/gallery.html).\n",
        "\n",
        "You can test these examples out easily in the notebook: simply copy the ``Source Code`` link on each page, and put it in a notebook using the ``%load`` magic.\n",
        "\n",
        "For example, in the subsequent cell:\n",
        "* Uncomment the load command, i.e. remove ``#``\n",
        "* Run the cell (this will load code)\n",
        "* Run the cell again to execute the loaded code"
      ]
    },
    {
      "cell_type": "code",
      "metadata": {
        "colab_type": "code",
        "id": "AcJTZFR-_dS4",
        "colab": {}
      },
      "source": [
        "# %load http://matplotlib.org/mpl_examples/pylab_examples/ellipse_collection.py"
      ],
      "execution_count": 0,
      "outputs": []
    },
    {
      "cell_type": "markdown",
      "metadata": {
        "colab_type": "text",
        "id": "7Q6D0MiXFh0S"
      },
      "source": [
        "For Google Colab, you cannot use the `%load` magic, instead you have to visit the relevant page and copy the code to a cell. E.g., visit [ellipse_example](https://matplotlib.org/examples/pylab_examples/ellipse_collection.html), copy the source code and paste to a new cell code for execution."
      ]
    },
    {
      "cell_type": "markdown",
      "metadata": {
        "colab_type": "text",
        "id": "D-wNaKCZ_dS6"
      },
      "source": [
        "___\n",
        "#### Exercise (optional)\n",
        "Go to the [matplotlib gallery](http://matplotlib.org/gallery.html) and select an example you like. Create a new cell below and use the ``load`` command followed by the web url to load the code for the example. Run the cell again to actually run the code.\n",
        "___"
      ]
    },
    {
      "cell_type": "markdown",
      "metadata": {
        "colab_type": "text",
        "id": "kzeMoAVC_dS8"
      },
      "source": [
        "## More in-depth on data in scikit-learn\n",
        "\n",
        "Data in scikit-learn, with very few exceptions, is assumed to be stored as a **two-dimensional array**, of shape `[n_samples, n_features]`.\n",
        "\n",
        "- **n_samples:**   The number of samples: each sample is an item to process (e.g. classify). A sample can be a document, a picture, a sound, a video, an astronomical object, a row in database or CSV file, or whatever you can describe with a fixed set of quantitative traits.\n",
        "- **n_features:**  The number of features or distinct traits that can be used to describe each item in a quantitative manner.  Features are generally real-valued, but may be Boolean or discrete-valued in some cases.\n",
        "\n",
        "The number of features must be fixed in advance. However it can be very high dimensional (e.g. millions of features) with most of them being \"zeros\" for a given sample.\n",
        "\n",
        "We represent samples (data points or instances) as rows in the data array, and we store the corresponding features, the dimensions,\" as columns."
      ]
    },
    {
      "cell_type": "markdown",
      "metadata": {
        "colab_type": "text",
        "id": "6QPOnW9s_dS-"
      },
      "source": [
        "## A Simple Example: the Iris Dataset\n",
        "\n",
        "As an example of a simple dataset, we're going to take a look at the iris data stored by scikit-learn. The data consists of measurements of three different iris flower species. There are three different species of iris in this particular dataset as illustrated below:"
      ]
    },
    {
      "cell_type": "markdown",
      "metadata": {
        "colab_type": "text",
        "id": "p4vA102f_dTA"
      },
      "source": [
        "### Loading the Iris Data with Scikit-learn\n",
        "\n",
        "For future experiments with machine learning algorithms, we recommend you to bookmark the [UCI machine learning repository](http://archive.ics.uci.edu/ml/), which hosts many of the commonly used datasets that are useful for benchmarking machine learning algorithms -- a very popular resource for machine learning practioners and researchers. Conveniently, some of these datasets are already included in scikit-learn so that we can skip the tedious parts of downloading, reading, parsing, and cleaning these text/CSV files. You can find a list of available datasets in scikit-learn at: http://scikit-learn.org/stable/datasets/#toy-datasets. Another place where you can find useful datasets for machine learning is at [Kaggle](https://www.kaggle.com/datasets).\n",
        "\n",
        "For example, scikit-learn has a very straightforward set of data on these iris species.  The data consist of the following:\n",
        "\n",
        "- Features in the Iris dataset:\n",
        "\n",
        "  1. sepal length in cm\n",
        "  2. sepal width in cm\n",
        "  3. petal length in cm\n",
        "  4. petal width in cm\n",
        "\n",
        "- Target classes to predict:\n",
        "\n",
        "  1. Iris Setosa\n",
        "  2. Iris Versicolour\n",
        "  3. Iris Virginica\n",
        "  \n",
        "<img src=\"https://github.com/fordanic/cmiv-ai-course/blob/master/notebooks/figures/petal_sepal.jpg?raw=1\" alt=\"Sepal\" style=\"width: 50%;\"/>\n",
        "\n",
        "(Image: \"Petal-sepal\". Licensed under CC BY-SA 3.0 via Wikimedia Commons - https://commons.wikimedia.org/wiki/File:Petal-sepal.jpg#/media/File:Petal-sepal.jpg)"
      ]
    },
    {
      "cell_type": "markdown",
      "metadata": {
        "colab_type": "text",
        "id": "HP5s9ZrS_dTB"
      },
      "source": [
        "Below follow more data exploration of the Iris dataset"
      ]
    },
    {
      "cell_type": "code",
      "metadata": {
        "colab_type": "code",
        "id": "_VguQIsA_dTC",
        "colab": {}
      },
      "source": [
        "from sklearn.datasets import load_iris\n",
        "iris = load_iris()"
      ],
      "execution_count": 0,
      "outputs": []
    },
    {
      "cell_type": "code",
      "metadata": {
        "colab_type": "code",
        "id": "0p7AhDSf_dTp",
        "colab": {
          "base_uri": "https://localhost:8080/",
          "height": 283
        },
        "outputId": "75627cb0-bff7-4238-aa1f-957f28894f5f"
      },
      "source": [
        "# Plot two features agains each other\n",
        "x_index = 3\n",
        "y_index = 0\n",
        "\n",
        "colors = ['blue', 'red', 'green']\n",
        "\n",
        "for label, color in zip(range(len(iris.target_names)), colors):\n",
        "    plt.scatter(iris.data[iris.target==label, x_index], \n",
        "                iris.data[iris.target==label, y_index],\n",
        "                label=iris.target_names[label],\n",
        "                c=color)\n",
        "\n",
        "plt.xlabel(iris.feature_names[x_index])\n",
        "plt.ylabel(iris.feature_names[y_index])\n",
        "plt.legend(loc='upper left')\n",
        "plt.show()"
      ],
      "execution_count": 132,
      "outputs": [
        {
          "output_type": "display_data",
          "data": {
            "image/png": "[encoded data removed]",
            "text/plain": [
              "<Figure size 432x288 with 1 Axes>"
            ]
          },
          "metadata": {
            "tags": []
          }
        }
      ]
    },
    {
      "cell_type": "markdown",
      "metadata": {
        "colab_type": "text",
        "id": "POY645pz_dTr"
      },
      "source": [
        "___\n",
        "**Exercise** <br>\n",
        "Change `x_index` and `y_index` in the above script and find a combination of two parameters which maximally separate the three classes.\n",
        "___"
      ]
    },
    {
      "cell_type": "markdown",
      "metadata": {
        "colab_type": "text",
        "id": "OP3Qewr8_dTr"
      },
      "source": [
        "\n",
        "\n",
        "Instead of looking at the data one plot at a time, a common tool that analysts use is called the **scatterplot matrix**.\n",
        "\n",
        "Scatterplot matrices show scatter plots between all features in the data set, as well as histograms to show the distribution of each feature."
      ]
    },
    {
      "cell_type": "code",
      "metadata": {
        "colab_type": "code",
        "id": "yA1xriVD_dTs",
        "colab": {
          "base_uri": "https://localhost:8080/",
          "height": 503
        },
        "outputId": "c2c82266-10ec-4069-da85-c24c0a4c814e"
      },
      "source": [
        "import pandas as pd\n",
        "    \n",
        "iris_df = pd.DataFrame(iris.data, columns=iris.feature_names)\n",
        "pd.plotting.scatter_matrix(iris_df, c=iris.target, figsize=(8, 8));"
      ],
      "execution_count": 133,
      "outputs": [
        {
          "output_type": "display_data",
          "data": {
            "image/png": "[encoded data removed]",
            "text/plain": [
              "<Figure size 576x576 with 16 Axes>"
            ]
          },
          "metadata": {
            "tags": []
          }
        }
      ]
    },
    {
      "cell_type": "markdown",
      "metadata": {
        "colab_type": "text",
        "id": "EeTPwtet_dTu"
      },
      "source": [
        "## Other Available Data"
      ]
    },
    {
      "cell_type": "markdown",
      "metadata": {
        "colab_type": "text",
        "id": "j4ttTg_Q_dTv"
      },
      "source": [
        "[Scikit-learn makes available a host of datasets for testing learning algorithms](http://scikit-learn.org/stable/datasets/#dataset-loading-utilities).\n",
        "They come in three flavors:\n",
        "\n",
        "- **Packaged Data:** these small datasets are packaged with the scikit-learn installation,\n",
        "  and can be downloaded using the tools in ``sklearn.datasets.load_*``\n",
        "- **Downloadable Data:** these larger datasets are available for download, and scikit-learn\n",
        "  includes tools which streamline this process.  These tools can be found in\n",
        "  ``sklearn.datasets.fetch_*``\n",
        "- **Generated Data:** there are several datasets which are generated from models based on a\n",
        "  random seed.  These are available in the ``sklearn.datasets.make_*``\n",
        "\n",
        "You can explore the available dataset loaders, fetchers, and generators using IPython's\n",
        "tab-completion functionality.  After importing the ``datasets`` submodule from ``sklearn``,\n",
        "type\n",
        "\n",
        "    datasets.load_<TAB>\n",
        "\n",
        "or\n",
        "\n",
        "    datasets.fetch_<TAB>\n",
        "\n",
        "or\n",
        "\n",
        "    datasets.make_<TAB>\n",
        "\n",
        "to see a list of available functions."
      ]
    },
    {
      "cell_type": "code",
      "metadata": {
        "colab_type": "code",
        "id": "wlkQoUVx_dTw",
        "colab": {}
      },
      "source": [
        "from sklearn import datasets"
      ],
      "execution_count": 0,
      "outputs": []
    },
    {
      "cell_type": "markdown",
      "metadata": {
        "colab_type": "text",
        "id": "gJ9gCM0l_dTz"
      },
      "source": [
        "Be warned: many of these datasets are quite large, and can take a long time to download!\n",
        "If you start a download within the IPython notebook and you want to kill it, you can use ipython's \"kernel interrupt\" feature, available in the menu or using the shortcut ``i, i``."
      ]
    },
    {
      "cell_type": "markdown",
      "metadata": {
        "colab_type": "text",
        "id": "vMYq9td2_dT9"
      },
      "source": [
        "___\n",
        "## Exercise\n",
        "Using content from the cells above, explore the dataset `breast_cancer`. Load the dataset by calling `breast_data = datasets.load_breast_cancer()`.\n",
        "___"
      ]
    },
    {
      "cell_type": "code",
      "metadata": {
        "colab_type": "code",
        "id": "z8bmeS3-_dT-",
        "colab": {}
      },
      "source": [
        "from sklearn import datasets\n",
        "breast_data = datasets.load_breast_cancer()\n",
        "\n",
        "# Your code below to explore that dataset.\n",
        "# ..."
      ],
      "execution_count": 0,
      "outputs": []
    },
    {
      "cell_type": "markdown",
      "metadata": {
        "colab_type": "text",
        "id": "iFyJxd-B_dUB"
      },
      "source": [
        "## Loading Digits Data"
      ]
    },
    {
      "cell_type": "markdown",
      "metadata": {
        "colab_type": "text",
        "id": "0nKlmUBF_dUB"
      },
      "source": [
        "Now we'll take a look at another dataset, one where we have to put a bit\n",
        "more thought into how to represent the data.  We can explore the data in\n",
        "a similar manner as above:"
      ]
    },
    {
      "cell_type": "code",
      "metadata": {
        "colab_type": "code",
        "id": "zKCynNZQ_dUC",
        "colab": {}
      },
      "source": [
        "from sklearn.datasets import load_digits\n",
        "digits = load_digits()"
      ],
      "execution_count": 0,
      "outputs": []
    },
    {
      "cell_type": "code",
      "metadata": {
        "colab_type": "code",
        "id": "lthpKO8r_dUF",
        "colab": {}
      },
      "source": [
        "digits.keys()"
      ],
      "execution_count": 0,
      "outputs": []
    },
    {
      "cell_type": "code",
      "metadata": {
        "colab_type": "code",
        "id": "RMKl7o5i_dUK",
        "colab": {}
      },
      "source": [
        "n_samples, n_features = digits.data.shape\n",
        "print((n_samples, n_features))"
      ],
      "execution_count": 0,
      "outputs": []
    },
    {
      "cell_type": "code",
      "metadata": {
        "colab_type": "code",
        "id": "hOq2E3wD_dUN",
        "colab": {}
      },
      "source": [
        "print(digits.data[0])\n",
        "print(digits.target)"
      ],
      "execution_count": 0,
      "outputs": []
    },
    {
      "cell_type": "markdown",
      "metadata": {
        "colab_type": "text",
        "id": "HrTS0_Dh_dUP"
      },
      "source": [
        "The target here is just the digit represented by the data.  The data is an array of\n",
        "length 64... but what does this data mean?"
      ]
    },
    {
      "cell_type": "markdown",
      "metadata": {
        "colab_type": "text",
        "id": "Zuvbqqwh_dUQ"
      },
      "source": [
        "There's a clue in the fact that we have two versions of the data array:\n",
        "``data`` and ``images``.  Let's take a look at them:"
      ]
    },
    {
      "cell_type": "code",
      "metadata": {
        "colab_type": "code",
        "id": "27a374Lu_dUQ",
        "colab": {}
      },
      "source": [
        "print(digits.data.shape)\n",
        "print(digits.images.shape)"
      ],
      "execution_count": 0,
      "outputs": []
    },
    {
      "cell_type": "markdown",
      "metadata": {
        "colab_type": "text",
        "id": "ZDO-vW8t_dUT"
      },
      "source": [
        "We can see that they're related by a simple reshaping:"
      ]
    },
    {
      "cell_type": "code",
      "metadata": {
        "colab_type": "code",
        "id": "VF-XGlNR_dUT",
        "colab": {}
      },
      "source": [
        "import numpy as np\n",
        "print(np.all(digits.images.reshape((1797, 64)) == digits.data))"
      ],
      "execution_count": 0,
      "outputs": []
    },
    {
      "cell_type": "markdown",
      "metadata": {
        "colab_type": "text",
        "id": "shHvYdTx_dUW"
      },
      "source": [
        "Let's visualize the data. It's little bit more involved than the simple scatter-plot we used above, but we can do it rather quickly."
      ]
    },
    {
      "cell_type": "code",
      "metadata": {
        "colab_type": "code",
        "id": "DOi-c4H2_dUW",
        "colab": {}
      },
      "source": [
        "# Set up the figure\n",
        "fig = plt.figure(figsize=(6, 6))  # figure size in inches\n",
        "fig.subplots_adjust(left=0, right=1, bottom=0, top=1, hspace=0.05, wspace=0.05)\n",
        "\n",
        "# Plot the digits: each image is 8x8 pixels\n",
        "for i in range(64):\n",
        "    ax = fig.add_subplot(8, 8, i + 1, xticks=[], yticks=[])\n",
        "    ax.imshow(digits.images[i], cmap=plt.cm.binary, interpolation='nearest')\n",
        "    \n",
        "    # Label the image with the target value\n",
        "    ax.text(0, 7, str(digits.target[i]))"
      ],
      "execution_count": 0,
      "outputs": []
    },
    {
      "cell_type": "markdown",
      "metadata": {
        "colab_type": "text",
        "id": "2XU20JJ__dUc"
      },
      "source": [
        "We see now what the features mean.  Each feature is a real-valued quantity representing the darkness of a pixel in an 8x8 image of a hand-written digit.\n",
        "\n",
        "Even though each sample has data that is inherently two-dimensional, the data matrix flattens this 2D data into a **single vector**, which can be contained in one **row** of the data matrix."
      ]
    }
  ]
}