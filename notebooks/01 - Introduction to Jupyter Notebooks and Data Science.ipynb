{
  "nbformat": 4,
  "nbformat_minor": 0,
  "metadata": {
    "colab": {
      "name": "01 - Introduction to Jupyter Notebooks and Data Science.ipynb",
      "version": "0.3.2",
      "provenance": [],
      "toc_visible": true
    },
    "kernelspec": {
      "display_name": "Python 3",
      "language": "python",
      "name": "python3"
    }
  },
  "cells": [
    {
      "metadata": {
        "colab_type": "text",
        "id": "a3HWSQhA_dRN"
      },
      "cell_type": "markdown",
      "source": [
        "# Jupyter Notebooks and Data Science"
      ]
    },
    {
      "metadata": {
        "colab_type": "text",
        "id": "aDiH_dW4_dRR"
      },
      "cell_type": "markdown",
      "source": [
        "First and foremost, Jupyter Notebooks are interactive environments for writing and running code. The notebook is capable of running code in a variety of languages. However, each notebook is associated with a single kernel. This notebook is associated with the IPython kernel, and therefore runs Python code."
      ]
    },
    {
      "metadata": {
        "colab_type": "text",
        "id": "7da3l0cV_dRU"
      },
      "cell_type": "markdown",
      "source": [
        "## Cells\n",
        "The content of each notebook is split into cells. A cell can typically consist of text and images (markdown format) or code that can be executed. To enter edit mode, in order to change the content of a cell, press ``[Enter]``. To leave the edit mode press ``[Esc]``. To produce the output from a cell, the cell has to be run (executed)."
      ]
    },
    {
      "metadata": {
        "colab_type": "text",
        "id": "wj-f7ATi_dRW"
      },
      "cell_type": "markdown",
      "source": [
        "## Running cells\n",
        "You can run a selected cell by pressing the \"play\" button next to the cell (visible when hovering over the square brackets), or  by pressing ``[Shift] + [Enter]``.\n",
        "\n",
        "![](https://github.com/fordanic/cmiv-ai-course/blob/master/notebooks/figures/colab_runcell.PNG?raw=1)\n",
        "\n",
        "There are two other keyboard shortcuts for running code:\n",
        "\n",
        "* `Alt + Enter` runs the current cell and inserts a new one below.\n",
        "* `Ctrl + Enter` run the selected cells.\n",
        "\n",
        "Run the following two cells using the different keyboard shortcuts.\n",
        "\n",
        "Note, when using **Jupyter Notebook ** to run the notebook, the text cells as well as the code cells need to be executed. Using this interface, there is no \"play\" button to the right of the cell, but a toolbar at the top of the page. The keyboard shotcuts are the same.\n",
        "\n",
        "![](https://github.com/fordanic/cmiv-ai-course/blob/master/notebooks/figures/ipython_run_cell.png?raw=1)"
      ]
    },
    {
      "metadata": {
        "colab_type": "text",
        "id": "K89LxJv-AFfI"
      },
      "cell_type": "markdown",
      "source": [
        "\n",
        "Run the two subsequent code cells, using either keyboard shortcuts or the play button.\n"
      ]
    },
    {
      "metadata": {
        "colab_type": "code",
        "id": "q-ciS7fl_dRY",
        "colab": {}
      },
      "cell_type": "code",
      "source": [
        "a = 10"
      ],
      "execution_count": 0,
      "outputs": []
    },
    {
      "metadata": {
        "colab_type": "code",
        "id": "0cO8DKofAmRH",
        "colab": {}
      },
      "cell_type": "code",
      "source": [
        "print(a)"
      ],
      "execution_count": 0,
      "outputs": []
    },
    {
      "metadata": {
        "colab_type": "text",
        "id": "Tv5EWdP1_dRh"
      },
      "cell_type": "markdown",
      "source": [
        "___\n",
        "## Exercise\n",
        "Edit the two previous cells to create a variable ``b``, assign the value ``10.5`` to it and print it.\n",
        "___"
      ]
    },
    {
      "metadata": {
        "colab_type": "text",
        "id": "Dlvv0rYv_dRl"
      },
      "cell_type": "markdown",
      "source": [
        "## Other shortcuts for working with cells\n",
        "The following additional keyboard shortcuts are useful to know:\n",
        "* ``Ctrl+m, y`` - Convert cell to code (y)\n",
        "* ``Ctrl+m, m`` - Convert cell to markdown (m)\n",
        "* ``Ctrl+m, a/b`` - Insert cell above/below ( a/b)\n",
        "* ``Ctrl+m, d, d`` - Delete selected cell (d)\n",
        "* ``Ctrl+m, h`` - Show keyboard shortcut help dialog (h)\n",
        "\n",
        "Shortcuts in () are for Jupyter Notebook, i.e. for Colab you need to add ``Ctrl+m`` before each command."
      ]
    },
    {
      "metadata": {
        "colab_type": "text",
        "id": "ExDhD4tT_dRm"
      },
      "cell_type": "markdown",
      "source": [
        "The following additional keyboard shortcuts for edit mode are useful to know:\n",
        "* ``Tab`` - Code completion or indent"
      ]
    },
    {
      "metadata": {
        "colab_type": "text",
        "id": "6aGFSvbu_dRo"
      },
      "cell_type": "markdown",
      "source": [
        "## Help on functions or objects\n",
        "\n",
        "You can get help on a function or object by pressing ``[Shift] + [tab]`` after the opening parenthesis ``function(``\n",
        "\n",
        "![](https://github.com/fordanic/cmiv-ai-course/blob/master/notebooks/figures/ipython_help-1.png?raw=1)\n",
        "\n",
        "You can also get help by executing ``function?``\n",
        "\n",
        "![](https://github.com/fordanic/cmiv-ai-course/blob/master/notebooks/figures/ipython_help-2.png?raw=1)"
      ]
    },
    {
      "metadata": {
        "colab_type": "text",
        "id": "-VFSJwrc_dRq"
      },
      "cell_type": "markdown",
      "source": [
        "___\n",
        "## Exercise\n",
        "Add a new code cell below. Start typing ``print(`` and then press ``[Shift] + [Tab]`` (only ``[Tab]`` for Google Colab).\n",
        "___"
      ]
    },
    {
      "metadata": {
        "colab_type": "text",
        "id": "2ETZQtZ0_dRr"
      },
      "cell_type": "markdown",
      "source": [
        "## Numpy Arrays\n",
        "\n",
        "Manipulating `numpy` arrays is an important part of doing machine learning (or, really, any type of scientific computation) in Python. Let's quickly go through some of the most important features."
      ]
    },
    {
      "metadata": {
        "colab_type": "code",
        "id": "0lIAGXjW_dRs",
        "colab": {}
      },
      "cell_type": "code",
      "source": [
        "import numpy as np\n",
        "\n",
        "# Setting a random seed for reproducibility\n",
        "rnd = np.random.RandomState(seed=123)\n",
        "\n",
        "# Generating a random array\n",
        "X = rnd.uniform(low=0.0, high=1.0, size=(3, 5))  # a 3 x 5 array\n",
        "\n",
        "print(X)"
      ],
      "execution_count": 0,
      "outputs": []
    },
    {
      "metadata": {
        "id": "ZnBh3vF0LmVG",
        "colab_type": "code",
        "colab": {}
      },
      "cell_type": "code",
      "source": [
        "# Get array shape (number of rows and columns)\n",
        "print(\"Shape of X: \", X.shape)"
      ],
      "execution_count": 0,
      "outputs": []
    },
    {
      "metadata": {
        "colab_type": "code",
        "id": "mlYTp23D_dSL",
        "colab": {}
      },
      "cell_type": "code",
      "source": [
        "# Reshaping an array\n",
        "X_reshaped = X.reshape(5, 3)\n",
        "print(X_reshaped)\n",
        "print(\"New shape: \", X_reshaped.shape)"
      ],
      "execution_count": 0,
      "outputs": []
    },
    {
      "metadata": {
        "colab_type": "text",
        "id": "CD3oTMUP_dRv"
      },
      "cell_type": "markdown",
      "source": [
        "Note that NumPy arrays use 0-indexing just like other data structures in Python."
      ]
    },
    {
      "metadata": {
        "colab_type": "code",
        "id": "AdVdfljS_dRx",
        "colab": {}
      },
      "cell_type": "code",
      "source": [
        "# Accessing elements\n",
        "\n",
        "# Get a single element \n",
        "# (here: an element in the first row and column)\n",
        "print(\"First element, first row: \", X[0, 0])\n",
        "\n",
        "# Get a row \n",
        "# (here: 2nd row)\n",
        "print(\"Second row: \",X[1])\n",
        "\n",
        "# Get a column\n",
        "# (here: 2nd column)\n",
        "print(\"Second column: \",X[:, 1])"
      ],
      "execution_count": 0,
      "outputs": []
    },
    {
      "metadata": {
        "colab_type": "code",
        "id": "e7ZcWZk0_dSO",
        "colab": {}
      },
      "cell_type": "code",
      "source": [
        "# Indexing by an array of integers (fancy indexing)\n",
        "indices = np.array([3, 1, 0])\n",
        "print(indices)\n",
        "X[:, indices]"
      ],
      "execution_count": 0,
      "outputs": []
    },
    {
      "metadata": {
        "colab_type": "code",
        "id": "DFE3ffyG_dSA",
        "colab": {}
      },
      "cell_type": "code",
      "source": [
        "# Creating a row vector\n",
        "# of evenly spaced numbers over a specified interval.\n",
        "y = np.linspace(0, 12, 5) # Start at 0, stop at 12, print 5 numbers equally spaced\n",
        "print(y)"
      ],
      "execution_count": 0,
      "outputs": []
    },
    {
      "metadata": {
        "colab_type": "code",
        "id": "bsqFSUAd_dR2",
        "colab": {}
      },
      "cell_type": "code",
      "source": [
        "# Transposing an array\n",
        "print(X.T)\n",
        "\n",
        "# What's the difference from reshape?"
      ],
      "execution_count": 0,
      "outputs": []
    },
    {
      "metadata": {
        "colab_type": "text",
        "id": "rd50iw_i_dR-"
      },
      "cell_type": "markdown",
      "source": [
        "$$\\begin{bmatrix}\n",
        "    1 & 2 & 3 & 4 \\\\\n",
        "    5 & 6 & 7 & 8\n",
        "\\end{bmatrix}^T\n",
        "= \n",
        "\\begin{bmatrix}\n",
        "    1 & 5 \\\\\n",
        "    2 & 6 \\\\\n",
        "    3 & 7 \\\\\n",
        "    4 & 8\n",
        "\\end{bmatrix}\n",
        "$$"
      ]
    },
    {
      "metadata": {
        "colab_type": "code",
        "id": "71opIs47_dSH",
        "colab": {}
      },
      "cell_type": "code",
      "source": [
        "# Turning the row vector into a column vector\n",
        "print(y)\n",
        "print(y[:, np.newaxis])"
      ],
      "execution_count": 0,
      "outputs": []
    },
    {
      "metadata": {
        "colab_type": "text",
        "id": "I4OZzniC_dSS"
      },
      "cell_type": "markdown",
      "source": [
        "There is much, much more to know, but these few operations are fundamental to what we'll\n",
        "do during this tutorial."
      ]
    },
    {
      "metadata": {
        "colab_type": "text",
        "id": "HU00pciP_dSU"
      },
      "cell_type": "markdown",
      "source": [
        "___\n",
        "## Exercise\n",
        "Create an array ``X`` with ten rows, five columns and with values taken from a normal distrubution with a non-zero mean.\n",
        "___"
      ]
    },
    {
      "metadata": {
        "colab_type": "text",
        "id": "OrxlPt22_dSW"
      },
      "cell_type": "markdown",
      "source": [
        "## matplotlib\n",
        "\n",
        "Another important part of machine learning is the visualization of data. The most common tool for this in Python is [`matplotlib`](http://matplotlib.org).\n",
        "\n",
        "Since we are using Jupyter notebooks, let us use one of IPython's convenient built-in \"[magic functions](https://ipython.org/ipython-doc/3/interactive/magics.html)\", the \"matoplotlib inline\" mode, which will draw the plots directly inside the notebook."
      ]
    },
    {
      "metadata": {
        "colab_type": "code",
        "id": "29nPQxTt_dSX",
        "colab": {}
      },
      "cell_type": "code",
      "source": [
        "%matplotlib inline"
      ],
      "execution_count": 0,
      "outputs": []
    },
    {
      "metadata": {
        "colab_type": "code",
        "id": "laUF_ysx_dSa",
        "colab": {}
      },
      "cell_type": "code",
      "source": [
        "import matplotlib.pyplot as plt"
      ],
      "execution_count": 0,
      "outputs": []
    },
    {
      "metadata": {
        "colab_type": "code",
        "id": "17T8eM8Q_dSc",
        "colab": {}
      },
      "cell_type": "code",
      "source": [
        "# Plotting a line\n",
        "x = np.linspace(0, 10, 100)\n",
        "plt.plot(x, np.sin(x));"
      ],
      "execution_count": 0,
      "outputs": []
    },
    {
      "metadata": {
        "colab_type": "code",
        "id": "iB19_SZ-_dSh",
        "colab": {}
      },
      "cell_type": "code",
      "source": [
        "# Scatter-plot points\n",
        "x = np.random.normal(size=500)\n",
        "y = np.random.normal(size=500)\n",
        "plt.scatter(x, y);"
      ],
      "execution_count": 0,
      "outputs": []
    },
    {
      "metadata": {
        "colab_type": "code",
        "id": "sozcPs41_dSm",
        "colab": {}
      },
      "cell_type": "code",
      "source": [
        "# Showing images using imshow\n",
        "# - note that origin is at the top-left by default!\n",
        "\n",
        "x = np.linspace(1, 12, 100)\n",
        "y = x[:, np.newaxis]\n",
        "\n",
        "im = y * np.sin(x) * np.cos(y) # Generate a black and white image\n",
        "print(im.shape)\n",
        "\n",
        "plt.imshow(im);"
      ],
      "execution_count": 0,
      "outputs": []
    },
    {
      "metadata": {
        "id": "3iH3RmJhNmas",
        "colab_type": "text"
      },
      "cell_type": "markdown",
      "source": [
        "There are many, many more plot types available.  You can easily explore them in the [matplotlib gallery](http://matplotlib.org/gallery.html)."
      ]
    },
    {
      "metadata": {
        "id": "u-ppqS9SNbhU",
        "colab_type": "text"
      },
      "cell_type": "markdown",
      "source": [
        "### (Advanced) More on plots..."
      ]
    },
    {
      "metadata": {
        "colab_type": "code",
        "id": "4tDq8yVA_dSu",
        "colab": {}
      },
      "cell_type": "code",
      "source": [
        "# Contour plots \n",
        "# - note that origin here is at the bottom-left by default!\n",
        "plt.contour(im);"
      ],
      "execution_count": 0,
      "outputs": []
    },
    {
      "metadata": {
        "colab_type": "code",
        "id": "ol1E6lRP_dSx",
        "colab": {}
      },
      "cell_type": "code",
      "source": [
        "# 3D plotting\n",
        "from mpl_toolkits.mplot3d import Axes3D\n",
        "ax = plt.axes(projection='3d')\n",
        "xgrid, ygrid = np.meshgrid(x, y.ravel())\n",
        "ax.plot_surface(xgrid, ygrid, im, cmap=plt.cm.viridis, cstride=2, rstride=2, linewidth=0);"
      ],
      "execution_count": 0,
      "outputs": []
    },
    {
      "metadata": {
        "colab_type": "text",
        "id": "peAQ2XG__dS3"
      },
      "cell_type": "markdown",
      "source": [
        "There are many, many more plot types available.  One useful way to explore these is by looking at the [matplotlib gallery](http://matplotlib.org/gallery.html).\n",
        "\n",
        "You can test these examples out easily in the notebook: simply copy the ``Source Code`` link on each page, and put it in a notebook using the ``%load`` magic.\n",
        "\n",
        "For example, in the subsequent cell:\n",
        "* Uncomment the load command, i.e. remove ``#``\n",
        "* Run the cell (this will load code)\n",
        "* Run the cell again to execute the loaded code"
      ]
    },
    {
      "metadata": {
        "colab_type": "code",
        "id": "AcJTZFR-_dS4",
        "colab": {}
      },
      "cell_type": "code",
      "source": [
        "# %load http://matplotlib.org/mpl_examples/pylab_examples/ellipse_collection.py"
      ],
      "execution_count": 0,
      "outputs": []
    },
    {
      "metadata": {
        "colab_type": "text",
        "id": "7Q6D0MiXFh0S"
      },
      "cell_type": "markdown",
      "source": [
        "For Google Colab, you cannot use the `%load` magic, instead you have to visit the relevant page and copy the code to a cell. E.g., visit [ellipse_example](https://matplotlib.org/examples/pylab_examples/ellipse_collection.html), copy the source code and paste to a new cell code for execution."
      ]
    },
    {
      "metadata": {
        "colab_type": "text",
        "id": "D-wNaKCZ_dS6"
      },
      "cell_type": "markdown",
      "source": [
        "___\n",
        "#### Exercise (optional)\n",
        "Go to the [matplotlib gallery](http://matplotlib.org/gallery.html) and select an example you like. Create a new cell below and use the ``load`` command followed by the web url to load the code for the example. Run the cell again to actually run the code.\n",
        "___"
      ]
    },
    {
      "metadata": {
        "colab_type": "text",
        "id": "kzeMoAVC_dS8"
      },
      "cell_type": "markdown",
      "source": [
        "## Data in scikit-learn\n",
        "\n",
        "Data in scikit-learn, with very few exceptions, is assumed to be stored as a **two-dimensional array**, of shape `[n_samples, n_features]`.\n",
        "\n",
        "- **n_samples:**   The number of samples: each sample is an item to process (e.g. classify). A sample can be a document, a picture, a sound, a video, an astronomical object, a row in database or CSV file, or whatever you can describe with a fixed set of quantitative traits.\n",
        "- **n_features:**  The number of features or distinct traits that can be used to describe each item in a quantitative manner.  Features are generally real-valued, but may be Boolean or discrete-valued in some cases.\n",
        "\n",
        "The number of features must be fixed in advance. However it can be very high dimensional (e.g. millions of features) with most of them being \"zeros\" for a given sample.\n",
        "\n",
        "We represent samples (data points or instances) as rows in the data array, and we store the corresponding features, the dimensions,\" as columns."
      ]
    },
    {
      "metadata": {
        "colab_type": "text",
        "id": "6QPOnW9s_dS-"
      },
      "cell_type": "markdown",
      "source": [
        "## A Simple Example: the Iris Dataset\n",
        "\n",
        "As an example of a simple dataset, we're going to take a look at the iris data stored by scikit-learn. The data consists of measurements of three different iris flower species. There are three different species of iris in this particular dataset as illustrated below:"
      ]
    },
    {
      "metadata": {
        "colab_type": "text",
        "id": "yRd8KBl9_dS_"
      },
      "cell_type": "markdown",
      "source": [
        "<!-- Iris Setosa\n",
        "<img src=\"https://github.com/fordanic/cmiv-ai-course/blob/master/notebooks/figures/iris_setosa.jpg?raw=1\" width=\"30%\">\n",
        "\n",
        "Iris Versicolor\n",
        "<img src=\"https://github.com/fordanic/cmiv-ai-course/blob/master/notebooks/figures/iris_versicolor.jpg?raw=1\" width=\"30%\">\n",
        "\n",
        "Iris Virginica\n",
        "<img src=\"https://github.com/fordanic/cmiv-ai-course/blob/master/notebooks/figures/iris_virginica.jpg?raw=1\" width=\"30%\"> -->\n",
        "\n",
        "Iris Setosa             |  Iris Versicolor |  Iris Virginica\n",
        ":-------------------|:----------:| :-----:\n",
        "<img src=\"https://github.com/fordanic/cmiv-ai-course/blob/master/notebooks/figures/iris_setosa.jpg?raw=1\" width=\"88%\">  |  <img src=\"https://github.com/fordanic/cmiv-ai-course/blob/master/notebooks/figures/iris_versicolor.jpg?raw=1\" width=\"120%\"> | <img src=\"https://github.com/fordanic/cmiv-ai-course/blob/master/notebooks/figures/iris_virginica.jpg?raw=1\" width=\"68%\">\n",
        "\n",
        "\n"
      ]
    },
    {
      "metadata": {
        "colab_type": "text",
        "id": "p4vA102f_dTA"
      },
      "cell_type": "markdown",
      "source": [
        "### Loading the Iris Data with Scikit-learn\n",
        "\n",
        "For future experiments with machine learning algorithms, we recommend you to bookmark the [UCI machine learning repository](http://archive.ics.uci.edu/ml/), which hosts many of the commonly used datasets that are useful for benchmarking machine learning algorithms -- a very popular resource for machine learning practioners and researchers. Conveniently, some of these datasets are already included in scikit-learn so that we can skip the tedious parts of downloading, reading, parsing, and cleaning these text/CSV files. You can find a list of available datasets in scikit-learn at: http://scikit-learn.org/stable/datasets/#toy-datasets. Another place where you can find useful datasets for machine learning is at [Kaggle](https://www.kaggle.com/datasets).\n",
        "\n",
        "For example, scikit-learn has a very straightforward set of data on these iris species.  The data consist of the following:\n",
        "\n",
        "- Features in the Iris dataset:\n",
        "\n",
        "  1. sepal length in cm\n",
        "  2. sepal width in cm\n",
        "  3. petal length in cm\n",
        "  4. petal width in cm\n",
        "\n",
        "- Target classes to predict:\n",
        "\n",
        "  1. Iris Setosa\n",
        "  2. Iris Versicolour\n",
        "  3. Iris Virginica\n",
        "  \n",
        "<img src=\"https://github.com/fordanic/cmiv-ai-course/blob/master/notebooks/figures/petal_sepal.jpg?raw=1\" alt=\"Sepal\" style=\"width: 50%;\"/>\n",
        "\n",
        "(Image: \"Petal-sepal\". Licensed under CC BY-SA 3.0 via Wikimedia Commons - https://commons.wikimedia.org/wiki/File:Petal-sepal.jpg#/media/File:Petal-sepal.jpg)"
      ]
    },
    {
      "metadata": {
        "colab_type": "text",
        "id": "HP5s9ZrS_dTB"
      },
      "cell_type": "markdown",
      "source": [
        "``scikit-learn`` embeds a copy of the iris CSV file along with a helper function to load it into numpy arrays:"
      ]
    },
    {
      "metadata": {
        "colab_type": "code",
        "id": "_VguQIsA_dTC",
        "colab": {}
      },
      "cell_type": "code",
      "source": [
        "from sklearn.datasets import load_iris\n",
        "iris = load_iris()"
      ],
      "execution_count": 0,
      "outputs": []
    },
    {
      "metadata": {
        "colab_type": "text",
        "id": "H8F0elPG_dTG"
      },
      "cell_type": "markdown",
      "source": [
        "The resulting dataset is a ``Bunch`` object: you can see what's available using\n",
        "the method ``keys()``:"
      ]
    },
    {
      "metadata": {
        "colab_type": "code",
        "id": "9VZ8hkjR_dTI",
        "colab": {}
      },
      "cell_type": "code",
      "source": [
        "iris.keys()"
      ],
      "execution_count": 0,
      "outputs": []
    },
    {
      "metadata": {
        "colab_type": "text",
        "id": "HraatrWQ_dTO"
      },
      "cell_type": "markdown",
      "source": [
        "The features of each sample flower are stored in the ``data`` attribute of the dataset:"
      ]
    },
    {
      "metadata": {
        "colab_type": "code",
        "id": "085-i67d_dTO",
        "colab": {}
      },
      "cell_type": "code",
      "source": [
        "n_samples, n_features = iris.data.shape\n",
        "print('Number of samples:', n_samples)\n",
        "print('Number of features:', n_features)\n",
        "# the sepal length, sepal width, petal length and petal width of the first sample (first flower)\n",
        "print('Features for the first sample: ', iris.data[0])"
      ],
      "execution_count": 0,
      "outputs": []
    },
    {
      "metadata": {
        "colab_type": "text",
        "id": "vv7WBbsF_dTR"
      },
      "cell_type": "markdown",
      "source": [
        "The information about the class of each sample is stored in the ``target`` attribute of the dataset:"
      ]
    },
    {
      "metadata": {
        "colab_type": "code",
        "id": "C0fhZT-G_dTS",
        "colab": {}
      },
      "cell_type": "code",
      "source": [
        "print(iris.data.shape)\n",
        "print(iris.target.shape)"
      ],
      "execution_count": 0,
      "outputs": []
    },
    {
      "metadata": {
        "colab_type": "code",
        "id": "diWebsm3_dTV",
        "colab": {}
      },
      "cell_type": "code",
      "source": [
        "print(iris.target)"
      ],
      "execution_count": 0,
      "outputs": []
    },
    {
      "metadata": {
        "colab_type": "code",
        "id": "lOrXJHAv_dTc",
        "colab": {}
      },
      "cell_type": "code",
      "source": [
        "import numpy as np\n",
        "\n",
        "print('Number of samples for each target label: ', np.bincount(iris.target))"
      ],
      "execution_count": 0,
      "outputs": []
    },
    {
      "metadata": {
        "colab_type": "text",
        "id": "VzIbZGxw_dTf"
      },
      "cell_type": "markdown",
      "source": [
        "Using the NumPy's bincount function (above), we can see that the classes are distributed uniformly in this dataset - there are 50 flowers from each species, where\n",
        "\n",
        "- class 0: Iris-Setosa\n",
        "- class 1: Iris-Versicolor\n",
        "- class 2: Iris-Virginica"
      ]
    },
    {
      "metadata": {
        "colab_type": "text",
        "id": "UCesW8SB_dTg"
      },
      "cell_type": "markdown",
      "source": [
        "These class names are stored in the last attribute, namely ``target_names``:"
      ]
    },
    {
      "metadata": {
        "colab_type": "code",
        "id": "dDYSMzYM_dTh",
        "colab": {}
      },
      "cell_type": "code",
      "source": [
        "print(iris.target_names)"
      ],
      "execution_count": 0,
      "outputs": []
    },
    {
      "metadata": {
        "colab_type": "text",
        "id": "LgtiCJ9g_dTj"
      },
      "cell_type": "markdown",
      "source": [
        "This data is four dimensional, but we can visualize one or two of the dimensions\n",
        "at a time using a simple histogram or scatter-plot.  Again, we'll start by enabling\n",
        "matplotlib inline mode:"
      ]
    },
    {
      "metadata": {
        "id": "ydi2FKgMT-wj",
        "colab_type": "code",
        "colab": {}
      },
      "cell_type": "code",
      "source": [
        "iris.feature_names"
      ],
      "execution_count": 0,
      "outputs": []
    },
    {
      "metadata": {
        "colab_type": "code",
        "id": "9IuWqfZ5_dTk",
        "colab": {}
      },
      "cell_type": "code",
      "source": [
        "# Plot one feature for all flower types\n",
        "x_index = 2\n",
        "print(\"Plotting\", iris.feature_names[x_index])\n",
        "colors = ['blue', 'red', 'green']\n",
        "\n",
        "for label, color in zip(range(len(iris.target_names)), colors):\n",
        "    plt.hist(iris.data[iris.target==label, x_index], \n",
        "             label=iris.target_names[label],\n",
        "             color=color)\n",
        "\n",
        "plt.xlabel(iris.feature_names[x_index])\n",
        "plt.legend(loc='upper right')\n",
        "plt.show()"
      ],
      "execution_count": 0,
      "outputs": []
    },
    {
      "metadata": {
        "colab_type": "code",
        "id": "0p7AhDSf_dTp",
        "colab": {}
      },
      "cell_type": "code",
      "source": [
        "# Plot two features agains each other\n",
        "x_index = 3\n",
        "y_index = 0\n",
        "\n",
        "colors = ['blue', 'red', 'green']\n",
        "\n",
        "for label, color in zip(range(len(iris.target_names)), colors):\n",
        "    plt.scatter(iris.data[iris.target==label, x_index], \n",
        "                iris.data[iris.target==label, y_index],\n",
        "                label=iris.target_names[label],\n",
        "                c=color)\n",
        "\n",
        "plt.xlabel(iris.feature_names[x_index])\n",
        "plt.ylabel(iris.feature_names[y_index])\n",
        "plt.legend(loc='upper left')\n",
        "plt.show()"
      ],
      "execution_count": 0,
      "outputs": []
    },
    {
      "metadata": {
        "colab_type": "text",
        "id": "POY645pz_dTr"
      },
      "cell_type": "markdown",
      "source": [
        "___\n",
        "## Exercise\n",
        "Change `x_index` and `y_index` in the above script and find a combination of two parameters which maximally separate the three classes.\n",
        "___"
      ]
    },
    {
      "metadata": {
        "colab_type": "text",
        "id": "OP3Qewr8_dTr"
      },
      "cell_type": "markdown",
      "source": [
        "## An aside: scatterplot matrices\n",
        "\n",
        "Instead of looking at the data one plot at a time, a common tool that analysts use is called the **scatterplot matrix**.\n",
        "\n",
        "Scatterplot matrices show scatter plots between all features in the data set, as well as histograms to show the distribution of each feature."
      ]
    },
    {
      "metadata": {
        "colab_type": "code",
        "id": "yA1xriVD_dTs",
        "colab": {}
      },
      "cell_type": "code",
      "source": [
        "import pandas as pd\n",
        "    \n",
        "iris_df = pd.DataFrame(iris.data, columns=iris.feature_names)\n",
        "pd.plotting.scatter_matrix(iris_df, c=iris.target, figsize=(8, 8));"
      ],
      "execution_count": 0,
      "outputs": []
    },
    {
      "metadata": {
        "colab_type": "text",
        "id": "EeTPwtet_dTu"
      },
      "cell_type": "markdown",
      "source": [
        "## Other Available Data"
      ]
    },
    {
      "metadata": {
        "colab_type": "text",
        "id": "j4ttTg_Q_dTv"
      },
      "cell_type": "markdown",
      "source": [
        "[Scikit-learn makes available a host of datasets for testing learning algorithms](http://scikit-learn.org/stable/datasets/#dataset-loading-utilities).\n",
        "They come in three flavors:\n",
        "\n",
        "- **Packaged Data:** these small datasets are packaged with the scikit-learn installation,\n",
        "  and can be downloaded using the tools in ``sklearn.datasets.load_*``\n",
        "- **Downloadable Data:** these larger datasets are available for download, and scikit-learn\n",
        "  includes tools which streamline this process.  These tools can be found in\n",
        "  ``sklearn.datasets.fetch_*``\n",
        "- **Generated Data:** there are several datasets which are generated from models based on a\n",
        "  random seed.  These are available in the ``sklearn.datasets.make_*``\n",
        "\n",
        "You can explore the available dataset loaders, fetchers, and generators using IPython's\n",
        "tab-completion functionality.  After importing the ``datasets`` submodule from ``sklearn``,\n",
        "type\n",
        "\n",
        "    datasets.load_<TAB>\n",
        "\n",
        "or\n",
        "\n",
        "    datasets.fetch_<TAB>\n",
        "\n",
        "or\n",
        "\n",
        "    datasets.make_<TAB>\n",
        "\n",
        "to see a list of available functions."
      ]
    },
    {
      "metadata": {
        "colab_type": "code",
        "id": "wlkQoUVx_dTw",
        "colab": {}
      },
      "cell_type": "code",
      "source": [
        "from sklearn import datasets"
      ],
      "execution_count": 0,
      "outputs": []
    },
    {
      "metadata": {
        "colab_type": "text",
        "id": "gJ9gCM0l_dTz"
      },
      "cell_type": "markdown",
      "source": [
        "Be warned: many of these datasets are quite large, and can take a long time to download!\n",
        "If you start a download within the IPython notebook and you want to kill it, you can use ipython's \"kernel interrupt\" feature, available in the menu or using the shortcut ``i, i``."
      ]
    },
    {
      "metadata": {
        "colab_type": "text",
        "id": "vMYq9td2_dT9"
      },
      "cell_type": "markdown",
      "source": [
        "___\n",
        "## Exercise\n",
        "Using content from the cells above, explore the dataset `breast_cancer`. Load the dataset by calling `breast_data = datasets.load_breast_cancer()`.\n",
        "___"
      ]
    },
    {
      "metadata": {
        "colab_type": "code",
        "id": "z8bmeS3-_dT-",
        "colab": {}
      },
      "cell_type": "code",
      "source": [
        "from sklearn import datasets\n",
        "breast_data = datasets.load_breast_cancer()\n",
        "\n",
        "# Your code below to explore that dataset.\n",
        "# ..."
      ],
      "execution_count": 0,
      "outputs": []
    },
    {
      "metadata": {
        "colab_type": "text",
        "id": "iFyJxd-B_dUB"
      },
      "cell_type": "markdown",
      "source": [
        "## Extra: Loading Digits Data"
      ]
    },
    {
      "metadata": {
        "colab_type": "text",
        "id": "0nKlmUBF_dUB"
      },
      "cell_type": "markdown",
      "source": [
        "Now we'll take a look at another dataset, one where we have to put a bit\n",
        "more thought into how to represent the data.  We can explore the data in\n",
        "a similar manner as above:"
      ]
    },
    {
      "metadata": {
        "colab_type": "code",
        "id": "zKCynNZQ_dUC",
        "colab": {}
      },
      "cell_type": "code",
      "source": [
        "from sklearn.datasets import load_digits\n",
        "digits = load_digits()"
      ],
      "execution_count": 0,
      "outputs": []
    },
    {
      "metadata": {
        "colab_type": "code",
        "id": "lthpKO8r_dUF",
        "colab": {}
      },
      "cell_type": "code",
      "source": [
        "digits.keys()"
      ],
      "execution_count": 0,
      "outputs": []
    },
    {
      "metadata": {
        "colab_type": "code",
        "id": "RMKl7o5i_dUK",
        "colab": {}
      },
      "cell_type": "code",
      "source": [
        "n_samples, n_features = digits.data.shape\n",
        "print((n_samples, n_features))"
      ],
      "execution_count": 0,
      "outputs": []
    },
    {
      "metadata": {
        "colab_type": "code",
        "id": "hOq2E3wD_dUN",
        "colab": {}
      },
      "cell_type": "code",
      "source": [
        "print(digits.data[0])\n",
        "print(digits.target)"
      ],
      "execution_count": 0,
      "outputs": []
    },
    {
      "metadata": {
        "colab_type": "text",
        "id": "HrTS0_Dh_dUP"
      },
      "cell_type": "markdown",
      "source": [
        "The target here is just the digit represented by the data.  The data is an array of\n",
        "length 64... but what does this data mean?"
      ]
    },
    {
      "metadata": {
        "colab_type": "text",
        "id": "Zuvbqqwh_dUQ"
      },
      "cell_type": "markdown",
      "source": [
        "There's a clue in the fact that we have two versions of the data array:\n",
        "``data`` and ``images``.  Let's take a look at them:"
      ]
    },
    {
      "metadata": {
        "colab_type": "code",
        "id": "27a374Lu_dUQ",
        "colab": {}
      },
      "cell_type": "code",
      "source": [
        "print(digits.data.shape)\n",
        "print(digits.images.shape)"
      ],
      "execution_count": 0,
      "outputs": []
    },
    {
      "metadata": {
        "colab_type": "text",
        "id": "ZDO-vW8t_dUT"
      },
      "cell_type": "markdown",
      "source": [
        "We can see that they're related by a simple reshaping:"
      ]
    },
    {
      "metadata": {
        "colab_type": "code",
        "id": "VF-XGlNR_dUT",
        "colab": {}
      },
      "cell_type": "code",
      "source": [
        "import numpy as np\n",
        "print(np.all(digits.images.reshape((1797, 64)) == digits.data))"
      ],
      "execution_count": 0,
      "outputs": []
    },
    {
      "metadata": {
        "colab_type": "text",
        "id": "shHvYdTx_dUW"
      },
      "cell_type": "markdown",
      "source": [
        "Let's visualize the data. It's little bit more involved than the simple scatter-plot we used above, but we can do it rather quickly."
      ]
    },
    {
      "metadata": {
        "colab_type": "code",
        "id": "DOi-c4H2_dUW",
        "colab": {}
      },
      "cell_type": "code",
      "source": [
        "# Set up the figure\n",
        "fig = plt.figure(figsize=(6, 6))  # figure size in inches\n",
        "fig.subplots_adjust(left=0, right=1, bottom=0, top=1, hspace=0.05, wspace=0.05)\n",
        "\n",
        "# Plot the digits: each image is 8x8 pixels\n",
        "for i in range(64):\n",
        "    ax = fig.add_subplot(8, 8, i + 1, xticks=[], yticks=[])\n",
        "    ax.imshow(digits.images[i], cmap=plt.cm.binary, interpolation='nearest')\n",
        "    \n",
        "    # Label the image with the target value\n",
        "    ax.text(0, 7, str(digits.target[i]))"
      ],
      "execution_count": 0,
      "outputs": []
    },
    {
      "metadata": {
        "colab_type": "text",
        "id": "2XU20JJ__dUc"
      },
      "cell_type": "markdown",
      "source": [
        "We see now what the features mean.  Each feature is a real-valued quantity representing the darkness of a pixel in an 8x8 image of a hand-written digit.\n",
        "\n",
        "Even though each sample has data that is inherently two-dimensional, the data matrix flattens this 2D data into a **single vector**, which can be contained in one **row** of the data matrix."
      ]
    }
  ]
}